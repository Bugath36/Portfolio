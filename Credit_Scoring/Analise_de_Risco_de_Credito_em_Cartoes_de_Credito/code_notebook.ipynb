{
 "cells": [
  {
   "cell_type": "markdown",
   "metadata": {},
   "source": [
    "# Projeto - Análise de Risco em Cartões de Crédito\n",
    "Projeto desenvolvido por Thiago Bulgarelli"
   ]
  },
  {
   "cell_type": "markdown",
   "metadata": {},
   "source": [
    "## Contextualização"
   ]
  },
  {
   "cell_type": "markdown",
   "metadata": {},
   "source": [
    "A análise de riscos em cartões de crédito é um campo fundamental dentro do setor financeiro, que busca garantir a segurança das transações e a proteção tanto dos consumidores quanto das instituições financeiras.\n",
    "\n",
    "A crescente popularidade do uso de cartões de crédito como meio de pagamento tem gerado um ambiente complexo e desafiador, no qual a detecção precoce de possíveis ameaças é essencial para evitar prejuízos financeiros significativos.\n",
    "\n",
    "Um dos principais pilares da análise de riscos em cartões de crédito é a avaliação do histórico de pagamento do titular do cartão. Esse aspecto inclui a análise de como o cliente tem gerenciado suas dívidas e honrado seus compromissos financeiros no passado. A análise do histórico de pagamento é frequentemente realizada por meio de sistemas de pontuação de crédito, como o FICO Score nos EUA, que avaliam o risco de inadimplência com base em vários fatores, incluindo histórico de pagamento, dívidas atuais, duração do histórico de crédito e outros.\n",
    "\n",
    "Outro ponto crítico na análise de riscos em cartões de crédito é a detecção de atividades suspeitas e a prevenção de fraudes. Isso envolve o monitoramento constante de transações em busca de padrões incomuns que possam indicar uma fraude em andamento. Técnicas avançadas, como aprendizado de máquina e anáise de Big Data, são frequentemente utilizadas para identificar comportamentos fraudulentos e tomar medidas rápidas para proteger os consumidores e as instituições financeiras.\n",
    "\n",
    "A análise de riscos em cartões de crédito é uma discplina dinâmica e em constante evolução, essencial para garantir a estabilidade e a segurança do sistema financeiro. Ela desempenha um papel crucial na concessão responsável de crédito e na prevenção de fraudes, contribuindo para a confiança dos consumidores e a saúde financeira das instituições."
   ]
  },
  {
   "cell_type": "markdown",
   "metadata": {},
   "source": [
    "## Estudo Técnico Aplicado"
   ]
  },
  {
   "cell_type": "markdown",
   "metadata": {},
   "source": [
    "Utilizando dados públicos, disponibilizados na plataforma do Kaggle pelo link https://www.kaggle.com/datasets/rikdifos/credit-card-approval-prediction, vamos analisar os dados com mais profundidade, identificando oportunidades e insights ao Cliente. Nosso objetivo final é criar um classificador, determinando quais clientes são \"BOM PAGADORES\" ou \"MAU PAGADORES\" e prever a Probabilidade de Inadimplência dos mesmos."
   ]
  },
  {
   "cell_type": "markdown",
   "metadata": {},
   "source": [
    "### Sobre o Dataset"
   ]
  },
  {
   "cell_type": "markdown",
   "metadata": {},
   "source": [
    "Os datasets disponibilizados conta com o seguinte detalhamento:\n",
    "\n",
    "Dataset: application_record.csv\n",
    "- ID = Identificador do Cliente\n",
    "- CODE_GENDER = Gênero do Cliente\n",
    "- FLAG_OWN_CAR = Refere-se a propriedade de carro pelo cliente\n",
    "- FLAG_OWN_REALTY = Refere-se a propriedade residencial pelo cliente\n",
    "- CNT_CHILDREN = Número de Filhos do Cliente\n",
    "- AMT_INCOME_TOTAL = Receita Anual do Cliente\n",
    "- NAME_INCOME_TYPE = Origem da Receita do Cliente\n",
    "- NAME_EDUCATION_TYPE = Grau de Formação do Cliente\n",
    "- NAME_FAMILY_STATUS = Estado Civil do Cliente\n",
    "- NAME_HOUSING_TYPE = Tipo de Moradia\n",
    "- DAYS_BIRTH = Data do Aniversário relativa ao dia atual (hoje = 0)\n",
    "- DAYS_EMPLOYED = Total de dias Desempregado (valor positivo) e Empregado (Valor Negativo)\n",
    "- FLAG_MOBILE = Refere-se a propriedade de Celular do Cliente\n",
    "- FLAG_WORK_PHONE = Refere-se a propriedade de telefone corporativo do Cliente\n",
    "- FLAG_PHONE = Refere-se a propriedade de telefone fixo do cliente\n",
    "- FLAG_EMAIL = Refere-se a propriedade de Email do Cliente\n",
    "- OCCUPATION_TYPE = Tipo de Ocupação do Cliente\n",
    "- CNT_FAM_MEMBERS = Quantidade de pessoas na família do Cliente\n",
    "\n",
    "Dataset: credit_record.csv\n",
    "- ID = Identificador do Cliente\n",
    "- MONTHS_BALANCE = Medida relativa do mês devedor, sendo 0 o mês atual\n",
    "- STATUS = Tempo de Atraso nos Pagamentos DPD (Days Past Due): \n",
    "    - 0 - 1-29 dias, \n",
    "    - 1 - 30-59 dias, \n",
    "    - 2 - 60-89 dias, \n",
    "    - 3 - 90-119 dias, \n",
    "    - 4 - 120-149 dias, \n",
    "    - 5 - dividas baixadas com mais de 150 dias, \n",
    "    - C - Quitado no mês, \n",
    "    - X - Nenhum empréstimo no mês\n"
   ]
  },
  {
   "cell_type": "markdown",
   "metadata": {},
   "source": [
    "### Carregando Dados e Pacotes"
   ]
  },
  {
   "cell_type": "code",
   "execution_count": 340,
   "metadata": {},
   "outputs": [],
   "source": [
    "# Pacotes de Trabalho\n",
    "import pandas as pd\n",
    "import matplotlib.pyplot as plt\n",
    "import numpy as np\n",
    "import plotly\n",
    "import seaborn as sbn\n",
    "import sklearn as skl\n",
    "import warnings\n",
    "warnings.filterwarnings(\"ignore\")"
   ]
  },
  {
   "cell_type": "code",
   "execution_count": 341,
   "metadata": {},
   "outputs": [],
   "source": [
    "# Importando os dados\n",
    "client_data = pd.read_csv(\"./application_record.csv\")\n",
    "dpd_data = pd.read_csv(\"./credit_record.csv\")"
   ]
  },
  {
   "cell_type": "code",
   "execution_count": 342,
   "metadata": {},
   "outputs": [
    {
     "data": {
      "text/html": [
       "<div>\n",
       "<style scoped>\n",
       "    .dataframe tbody tr th:only-of-type {\n",
       "        vertical-align: middle;\n",
       "    }\n",
       "\n",
       "    .dataframe tbody tr th {\n",
       "        vertical-align: top;\n",
       "    }\n",
       "\n",
       "    .dataframe thead th {\n",
       "        text-align: right;\n",
       "    }\n",
       "</style>\n",
       "<table border=\"1\" class=\"dataframe\">\n",
       "  <thead>\n",
       "    <tr style=\"text-align: right;\">\n",
       "      <th></th>\n",
       "      <th>ID</th>\n",
       "      <th>CODE_GENDER</th>\n",
       "      <th>FLAG_OWN_CAR</th>\n",
       "      <th>FLAG_OWN_REALTY</th>\n",
       "      <th>CNT_CHILDREN</th>\n",
       "      <th>AMT_INCOME_TOTAL</th>\n",
       "      <th>NAME_INCOME_TYPE</th>\n",
       "      <th>NAME_EDUCATION_TYPE</th>\n",
       "      <th>NAME_FAMILY_STATUS</th>\n",
       "      <th>NAME_HOUSING_TYPE</th>\n",
       "      <th>DAYS_BIRTH</th>\n",
       "      <th>DAYS_EMPLOYED</th>\n",
       "      <th>FLAG_MOBIL</th>\n",
       "      <th>FLAG_WORK_PHONE</th>\n",
       "      <th>FLAG_PHONE</th>\n",
       "      <th>FLAG_EMAIL</th>\n",
       "      <th>OCCUPATION_TYPE</th>\n",
       "      <th>CNT_FAM_MEMBERS</th>\n",
       "    </tr>\n",
       "  </thead>\n",
       "  <tbody>\n",
       "    <tr>\n",
       "      <th>0</th>\n",
       "      <td>5008804</td>\n",
       "      <td>M</td>\n",
       "      <td>Y</td>\n",
       "      <td>Y</td>\n",
       "      <td>0</td>\n",
       "      <td>427500.0</td>\n",
       "      <td>Working</td>\n",
       "      <td>Higher education</td>\n",
       "      <td>Civil marriage</td>\n",
       "      <td>Rented apartment</td>\n",
       "      <td>-12005</td>\n",
       "      <td>-4542</td>\n",
       "      <td>1</td>\n",
       "      <td>1</td>\n",
       "      <td>0</td>\n",
       "      <td>0</td>\n",
       "      <td>NaN</td>\n",
       "      <td>2.0</td>\n",
       "    </tr>\n",
       "    <tr>\n",
       "      <th>1</th>\n",
       "      <td>5008805</td>\n",
       "      <td>M</td>\n",
       "      <td>Y</td>\n",
       "      <td>Y</td>\n",
       "      <td>0</td>\n",
       "      <td>427500.0</td>\n",
       "      <td>Working</td>\n",
       "      <td>Higher education</td>\n",
       "      <td>Civil marriage</td>\n",
       "      <td>Rented apartment</td>\n",
       "      <td>-12005</td>\n",
       "      <td>-4542</td>\n",
       "      <td>1</td>\n",
       "      <td>1</td>\n",
       "      <td>0</td>\n",
       "      <td>0</td>\n",
       "      <td>NaN</td>\n",
       "      <td>2.0</td>\n",
       "    </tr>\n",
       "    <tr>\n",
       "      <th>2</th>\n",
       "      <td>5008806</td>\n",
       "      <td>M</td>\n",
       "      <td>Y</td>\n",
       "      <td>Y</td>\n",
       "      <td>0</td>\n",
       "      <td>112500.0</td>\n",
       "      <td>Working</td>\n",
       "      <td>Secondary / secondary special</td>\n",
       "      <td>Married</td>\n",
       "      <td>House / apartment</td>\n",
       "      <td>-21474</td>\n",
       "      <td>-1134</td>\n",
       "      <td>1</td>\n",
       "      <td>0</td>\n",
       "      <td>0</td>\n",
       "      <td>0</td>\n",
       "      <td>Security staff</td>\n",
       "      <td>2.0</td>\n",
       "    </tr>\n",
       "    <tr>\n",
       "      <th>3</th>\n",
       "      <td>5008808</td>\n",
       "      <td>F</td>\n",
       "      <td>N</td>\n",
       "      <td>Y</td>\n",
       "      <td>0</td>\n",
       "      <td>270000.0</td>\n",
       "      <td>Commercial associate</td>\n",
       "      <td>Secondary / secondary special</td>\n",
       "      <td>Single / not married</td>\n",
       "      <td>House / apartment</td>\n",
       "      <td>-19110</td>\n",
       "      <td>-3051</td>\n",
       "      <td>1</td>\n",
       "      <td>0</td>\n",
       "      <td>1</td>\n",
       "      <td>1</td>\n",
       "      <td>Sales staff</td>\n",
       "      <td>1.0</td>\n",
       "    </tr>\n",
       "    <tr>\n",
       "      <th>4</th>\n",
       "      <td>5008809</td>\n",
       "      <td>F</td>\n",
       "      <td>N</td>\n",
       "      <td>Y</td>\n",
       "      <td>0</td>\n",
       "      <td>270000.0</td>\n",
       "      <td>Commercial associate</td>\n",
       "      <td>Secondary / secondary special</td>\n",
       "      <td>Single / not married</td>\n",
       "      <td>House / apartment</td>\n",
       "      <td>-19110</td>\n",
       "      <td>-3051</td>\n",
       "      <td>1</td>\n",
       "      <td>0</td>\n",
       "      <td>1</td>\n",
       "      <td>1</td>\n",
       "      <td>Sales staff</td>\n",
       "      <td>1.0</td>\n",
       "    </tr>\n",
       "  </tbody>\n",
       "</table>\n",
       "</div>"
      ],
      "text/plain": [
       "        ID CODE_GENDER FLAG_OWN_CAR FLAG_OWN_REALTY  CNT_CHILDREN  \\\n",
       "0  5008804           M            Y               Y             0   \n",
       "1  5008805           M            Y               Y             0   \n",
       "2  5008806           M            Y               Y             0   \n",
       "3  5008808           F            N               Y             0   \n",
       "4  5008809           F            N               Y             0   \n",
       "\n",
       "   AMT_INCOME_TOTAL      NAME_INCOME_TYPE            NAME_EDUCATION_TYPE  \\\n",
       "0          427500.0               Working               Higher education   \n",
       "1          427500.0               Working               Higher education   \n",
       "2          112500.0               Working  Secondary / secondary special   \n",
       "3          270000.0  Commercial associate  Secondary / secondary special   \n",
       "4          270000.0  Commercial associate  Secondary / secondary special   \n",
       "\n",
       "     NAME_FAMILY_STATUS  NAME_HOUSING_TYPE  DAYS_BIRTH  DAYS_EMPLOYED  \\\n",
       "0        Civil marriage   Rented apartment      -12005          -4542   \n",
       "1        Civil marriage   Rented apartment      -12005          -4542   \n",
       "2               Married  House / apartment      -21474          -1134   \n",
       "3  Single / not married  House / apartment      -19110          -3051   \n",
       "4  Single / not married  House / apartment      -19110          -3051   \n",
       "\n",
       "   FLAG_MOBIL  FLAG_WORK_PHONE  FLAG_PHONE  FLAG_EMAIL OCCUPATION_TYPE  \\\n",
       "0           1                1           0           0             NaN   \n",
       "1           1                1           0           0             NaN   \n",
       "2           1                0           0           0  Security staff   \n",
       "3           1                0           1           1     Sales staff   \n",
       "4           1                0           1           1     Sales staff   \n",
       "\n",
       "   CNT_FAM_MEMBERS  \n",
       "0              2.0  \n",
       "1              2.0  \n",
       "2              2.0  \n",
       "3              1.0  \n",
       "4              1.0  "
      ]
     },
     "execution_count": 342,
     "metadata": {},
     "output_type": "execute_result"
    }
   ],
   "source": [
    "# Visualizando os dados dos Clientes\n",
    "client_data.head()"
   ]
  },
  {
   "cell_type": "code",
   "execution_count": 343,
   "metadata": {},
   "outputs": [
    {
     "data": {
      "text/html": [
       "<div>\n",
       "<style scoped>\n",
       "    .dataframe tbody tr th:only-of-type {\n",
       "        vertical-align: middle;\n",
       "    }\n",
       "\n",
       "    .dataframe tbody tr th {\n",
       "        vertical-align: top;\n",
       "    }\n",
       "\n",
       "    .dataframe thead th {\n",
       "        text-align: right;\n",
       "    }\n",
       "</style>\n",
       "<table border=\"1\" class=\"dataframe\">\n",
       "  <thead>\n",
       "    <tr style=\"text-align: right;\">\n",
       "      <th></th>\n",
       "      <th>ID</th>\n",
       "      <th>MONTHS_BALANCE</th>\n",
       "      <th>STATUS</th>\n",
       "    </tr>\n",
       "  </thead>\n",
       "  <tbody>\n",
       "    <tr>\n",
       "      <th>0</th>\n",
       "      <td>5001711</td>\n",
       "      <td>0</td>\n",
       "      <td>X</td>\n",
       "    </tr>\n",
       "    <tr>\n",
       "      <th>1</th>\n",
       "      <td>5001711</td>\n",
       "      <td>-1</td>\n",
       "      <td>0</td>\n",
       "    </tr>\n",
       "    <tr>\n",
       "      <th>2</th>\n",
       "      <td>5001711</td>\n",
       "      <td>-2</td>\n",
       "      <td>0</td>\n",
       "    </tr>\n",
       "    <tr>\n",
       "      <th>3</th>\n",
       "      <td>5001711</td>\n",
       "      <td>-3</td>\n",
       "      <td>0</td>\n",
       "    </tr>\n",
       "    <tr>\n",
       "      <th>4</th>\n",
       "      <td>5001712</td>\n",
       "      <td>0</td>\n",
       "      <td>C</td>\n",
       "    </tr>\n",
       "  </tbody>\n",
       "</table>\n",
       "</div>"
      ],
      "text/plain": [
       "        ID  MONTHS_BALANCE STATUS\n",
       "0  5001711               0      X\n",
       "1  5001711              -1      0\n",
       "2  5001711              -2      0\n",
       "3  5001711              -3      0\n",
       "4  5001712               0      C"
      ]
     },
     "execution_count": 343,
     "metadata": {},
     "output_type": "execute_result"
    }
   ],
   "source": [
    "# Visualizando os dados de DPD\n",
    "dpd_data.head()"
   ]
  },
  {
   "cell_type": "markdown",
   "metadata": {},
   "source": [
    "### Limpeza e Transformação dos Dados de Trabalho"
   ]
  },
  {
   "cell_type": "code",
   "execution_count": 344,
   "metadata": {},
   "outputs": [
    {
     "name": "stdout",
     "output_type": "stream",
     "text": [
      "<class 'pandas.core.frame.DataFrame'>\n",
      "RangeIndex: 438557 entries, 0 to 438556\n",
      "Data columns (total 18 columns):\n",
      " #   Column              Non-Null Count   Dtype  \n",
      "---  ------              --------------   -----  \n",
      " 0   Id                  438557 non-null  int64  \n",
      " 1   Genero              438557 non-null  object \n",
      " 2   Carro_proprio       438557 non-null  object \n",
      " 3   Residencia_Propria  438557 non-null  object \n",
      " 4   Qtde_Filhos         438557 non-null  int64  \n",
      " 5   Receita_Anual       438557 non-null  float64\n",
      " 6   Origem_Receita      438557 non-null  object \n",
      " 7   Escolaridade        438557 non-null  object \n",
      " 8   Estado_Civil        438557 non-null  object \n",
      " 9   Tipo_Moradia        438557 non-null  object \n",
      " 10  Aniv_Rel            438557 non-null  int64  \n",
      " 11  Dias_Empregado      438557 non-null  int64  \n",
      " 12  Possui_Celular      438557 non-null  int64  \n",
      " 13  Possui_Tel_Corp     438557 non-null  int64  \n",
      " 14  Possui_Tel_Fixo     438557 non-null  int64  \n",
      " 15  Possui_Email        438557 non-null  int64  \n",
      " 16  Ocupacao            304354 non-null  object \n",
      " 17  Tam_Familia         438557 non-null  float64\n",
      "dtypes: float64(2), int64(8), object(8)\n",
      "memory usage: 60.2+ MB\n"
     ]
    }
   ],
   "source": [
    "# Renomeando as Variáveis do dataset client_data\n",
    "nomes_var = [\"Id\", \"Genero\", \"Carro_proprio\", \"Residencia_Propria\", \"Qtde_Filhos\", \"Receita_Anual\", \"Origem_Receita\", \"Escolaridade\", \"Estado_Civil\", \"Tipo_Moradia\", \"Aniv_Rel\", \"Dias_Empregado\", \"Possui_Celular\", \"Possui_Tel_Corp\", \"Possui_Tel_Fixo\", \"Possui_Email\", \"Ocupacao\", \"Tam_Familia\"]\n",
    "client_data.columns = nomes_var\n",
    "client_data.info()"
   ]
  },
  {
   "cell_type": "code",
   "execution_count": 345,
   "metadata": {},
   "outputs": [
    {
     "data": {
      "text/plain": [
       "Id                         0\n",
       "Genero                     0\n",
       "Carro_proprio              0\n",
       "Residencia_Propria         0\n",
       "Qtde_Filhos                0\n",
       "Receita_Anual              0\n",
       "Origem_Receita             0\n",
       "Escolaridade               0\n",
       "Estado_Civil               0\n",
       "Tipo_Moradia               0\n",
       "Aniv_Rel                   0\n",
       "Dias_Empregado             0\n",
       "Possui_Celular             0\n",
       "Possui_Tel_Corp            0\n",
       "Possui_Tel_Fixo            0\n",
       "Possui_Email               0\n",
       "Ocupacao              134203\n",
       "Tam_Familia                0\n",
       "dtype: int64"
      ]
     },
     "execution_count": 345,
     "metadata": {},
     "output_type": "execute_result"
    }
   ],
   "source": [
    "# Verificando dados ausentes no dataset client_data\n",
    "client_data.isna().sum() # a Variável ocupação possui muitos dados NaN, vamos filtrar e entender o motivo"
   ]
  },
  {
   "cell_type": "code",
   "execution_count": 346,
   "metadata": {},
   "outputs": [
    {
     "data": {
      "text/html": [
       "<div>\n",
       "<style scoped>\n",
       "    .dataframe tbody tr th:only-of-type {\n",
       "        vertical-align: middle;\n",
       "    }\n",
       "\n",
       "    .dataframe tbody tr th {\n",
       "        vertical-align: top;\n",
       "    }\n",
       "\n",
       "    .dataframe thead th {\n",
       "        text-align: right;\n",
       "    }\n",
       "</style>\n",
       "<table border=\"1\" class=\"dataframe\">\n",
       "  <thead>\n",
       "    <tr style=\"text-align: right;\">\n",
       "      <th></th>\n",
       "      <th>Id</th>\n",
       "      <th>Genero</th>\n",
       "      <th>Carro_proprio</th>\n",
       "      <th>Residencia_Propria</th>\n",
       "      <th>Qtde_Filhos</th>\n",
       "      <th>Receita_Anual</th>\n",
       "      <th>Origem_Receita</th>\n",
       "      <th>Escolaridade</th>\n",
       "      <th>Estado_Civil</th>\n",
       "      <th>Tipo_Moradia</th>\n",
       "      <th>Aniv_Rel</th>\n",
       "      <th>Dias_Empregado</th>\n",
       "      <th>Possui_Celular</th>\n",
       "      <th>Possui_Tel_Corp</th>\n",
       "      <th>Possui_Tel_Fixo</th>\n",
       "      <th>Possui_Email</th>\n",
       "      <th>Ocupacao</th>\n",
       "      <th>Tam_Familia</th>\n",
       "    </tr>\n",
       "  </thead>\n",
       "  <tbody>\n",
       "    <tr>\n",
       "      <th>0</th>\n",
       "      <td>5008804</td>\n",
       "      <td>M</td>\n",
       "      <td>Y</td>\n",
       "      <td>Y</td>\n",
       "      <td>0</td>\n",
       "      <td>427500.0</td>\n",
       "      <td>Working</td>\n",
       "      <td>Higher education</td>\n",
       "      <td>Civil marriage</td>\n",
       "      <td>Rented apartment</td>\n",
       "      <td>-12005</td>\n",
       "      <td>-4542</td>\n",
       "      <td>1</td>\n",
       "      <td>1</td>\n",
       "      <td>0</td>\n",
       "      <td>0</td>\n",
       "      <td>NaN</td>\n",
       "      <td>2.0</td>\n",
       "    </tr>\n",
       "    <tr>\n",
       "      <th>1</th>\n",
       "      <td>5008805</td>\n",
       "      <td>M</td>\n",
       "      <td>Y</td>\n",
       "      <td>Y</td>\n",
       "      <td>0</td>\n",
       "      <td>427500.0</td>\n",
       "      <td>Working</td>\n",
       "      <td>Higher education</td>\n",
       "      <td>Civil marriage</td>\n",
       "      <td>Rented apartment</td>\n",
       "      <td>-12005</td>\n",
       "      <td>-4542</td>\n",
       "      <td>1</td>\n",
       "      <td>1</td>\n",
       "      <td>0</td>\n",
       "      <td>0</td>\n",
       "      <td>NaN</td>\n",
       "      <td>2.0</td>\n",
       "    </tr>\n",
       "    <tr>\n",
       "      <th>24</th>\n",
       "      <td>5008834</td>\n",
       "      <td>F</td>\n",
       "      <td>N</td>\n",
       "      <td>Y</td>\n",
       "      <td>1</td>\n",
       "      <td>112500.0</td>\n",
       "      <td>Working</td>\n",
       "      <td>Secondary / secondary special</td>\n",
       "      <td>Single / not married</td>\n",
       "      <td>House / apartment</td>\n",
       "      <td>-10968</td>\n",
       "      <td>-1620</td>\n",
       "      <td>1</td>\n",
       "      <td>0</td>\n",
       "      <td>0</td>\n",
       "      <td>0</td>\n",
       "      <td>NaN</td>\n",
       "      <td>2.0</td>\n",
       "    </tr>\n",
       "    <tr>\n",
       "      <th>25</th>\n",
       "      <td>5008835</td>\n",
       "      <td>F</td>\n",
       "      <td>N</td>\n",
       "      <td>Y</td>\n",
       "      <td>1</td>\n",
       "      <td>112500.0</td>\n",
       "      <td>Working</td>\n",
       "      <td>Secondary / secondary special</td>\n",
       "      <td>Single / not married</td>\n",
       "      <td>House / apartment</td>\n",
       "      <td>-10968</td>\n",
       "      <td>-1620</td>\n",
       "      <td>1</td>\n",
       "      <td>0</td>\n",
       "      <td>0</td>\n",
       "      <td>0</td>\n",
       "      <td>NaN</td>\n",
       "      <td>2.0</td>\n",
       "    </tr>\n",
       "    <tr>\n",
       "      <th>26</th>\n",
       "      <td>6153712</td>\n",
       "      <td>F</td>\n",
       "      <td>N</td>\n",
       "      <td>Y</td>\n",
       "      <td>1</td>\n",
       "      <td>112500.0</td>\n",
       "      <td>Working</td>\n",
       "      <td>Secondary / secondary special</td>\n",
       "      <td>Single / not married</td>\n",
       "      <td>House / apartment</td>\n",
       "      <td>-10968</td>\n",
       "      <td>-1620</td>\n",
       "      <td>1</td>\n",
       "      <td>0</td>\n",
       "      <td>0</td>\n",
       "      <td>0</td>\n",
       "      <td>NaN</td>\n",
       "      <td>2.0</td>\n",
       "    </tr>\n",
       "  </tbody>\n",
       "</table>\n",
       "</div>"
      ],
      "text/plain": [
       "         Id Genero Carro_proprio Residencia_Propria  Qtde_Filhos  \\\n",
       "0   5008804      M             Y                  Y            0   \n",
       "1   5008805      M             Y                  Y            0   \n",
       "24  5008834      F             N                  Y            1   \n",
       "25  5008835      F             N                  Y            1   \n",
       "26  6153712      F             N                  Y            1   \n",
       "\n",
       "    Receita_Anual Origem_Receita                   Escolaridade  \\\n",
       "0        427500.0        Working               Higher education   \n",
       "1        427500.0        Working               Higher education   \n",
       "24       112500.0        Working  Secondary / secondary special   \n",
       "25       112500.0        Working  Secondary / secondary special   \n",
       "26       112500.0        Working  Secondary / secondary special   \n",
       "\n",
       "            Estado_Civil       Tipo_Moradia  Aniv_Rel  Dias_Empregado  \\\n",
       "0         Civil marriage   Rented apartment    -12005           -4542   \n",
       "1         Civil marriage   Rented apartment    -12005           -4542   \n",
       "24  Single / not married  House / apartment    -10968           -1620   \n",
       "25  Single / not married  House / apartment    -10968           -1620   \n",
       "26  Single / not married  House / apartment    -10968           -1620   \n",
       "\n",
       "    Possui_Celular  Possui_Tel_Corp  Possui_Tel_Fixo  Possui_Email Ocupacao  \\\n",
       "0                1                1                0             0      NaN   \n",
       "1                1                1                0             0      NaN   \n",
       "24               1                0                0             0      NaN   \n",
       "25               1                0                0             0      NaN   \n",
       "26               1                0                0             0      NaN   \n",
       "\n",
       "    Tam_Familia  \n",
       "0           2.0  \n",
       "1           2.0  \n",
       "24          2.0  \n",
       "25          2.0  \n",
       "26          2.0  "
      ]
     },
     "execution_count": 346,
     "metadata": {},
     "output_type": "execute_result"
    }
   ],
   "source": [
    "# Filtrando o dataset client_data por ocupação com NaN\n",
    "client_data[(client_data[\"Ocupacao\"].isna() == True) & (client_data[\"Dias_Empregado\"] < 0)].head()"
   ]
  },
  {
   "cell_type": "markdown",
   "metadata": {},
   "source": [
    "Entendemos que para os clientes que possuem dias empregados e a origem da receita preenchidos, podemos considerar que a ocupação apenas não foi informada, sendo assim aplicaremos como \"Não Informada\".\n",
    "\n",
    "Para os clientes que não estão trabalhando, aplicaremos como \"Desempregados\"."
   ]
  },
  {
   "cell_type": "code",
   "execution_count": 347,
   "metadata": {},
   "outputs": [
    {
     "data": {
      "text/plain": [
       "Laborers                 78240\n",
       "Desempregado             75329\n",
       "Nao_Informado            58874\n",
       "Core staff               43007\n",
       "Sales staff              41098\n",
       "Managers                 35487\n",
       "Drivers                  26090\n",
       "High skill tech staff    17289\n",
       "Accountants              15985\n",
       "Medicine staff           13520\n",
       "Cooking staff             8076\n",
       "Security staff            7993\n",
       "Cleaning staff            5845\n",
       "Private service staff     3456\n",
       "Low-skill Laborers        2140\n",
       "Secretaries               2044\n",
       "Waiters/barmen staff      1665\n",
       "Realty agents             1041\n",
       "HR staff                   774\n",
       "IT staff                   604\n",
       "Name: Ocupacao, dtype: int64"
      ]
     },
     "execution_count": 347,
     "metadata": {},
     "output_type": "execute_result"
    }
   ],
   "source": [
    "# Aplicando a categoria \"Nao_Informado\" a Ocupacao com dados faltantes (NaN) com dias_empregados negativos\n",
    "cond = (client_data[\"Ocupacao\"].isna() == True) & (client_data[\"Dias_Empregado\"] < 0)\n",
    "client_data.loc[cond, \"Ocupacao\"] = \"Nao_Informado\"\n",
    "\n",
    "# Aplicando a categoria \"Desempregado\" a Ocupacao com dados faltantes (NaN) com dias_empregados positivos\n",
    "cond = (client_data[\"Ocupacao\"].isna() == True) & (client_data[\"Dias_Empregado\"] > 0)\n",
    "client_data.loc[cond, \"Ocupacao\"] = \"Desempregado\"\n",
    "\n",
    "# Visualizando o resultado das categorias em Ocupacao\n",
    "client_data[\"Ocupacao\"].value_counts()\n"
   ]
  },
  {
   "cell_type": "markdown",
   "metadata": {},
   "source": [
    "Vamos verificar ainda se temos Id's repetidos e caso positivo, excluiremos de nossa base de dados."
   ]
  },
  {
   "cell_type": "code",
   "execution_count": 348,
   "metadata": {},
   "outputs": [
    {
     "name": "stdout",
     "output_type": "stream",
     "text": [
      "Existem 94 linhas duplicadas que necessitam ser excluídas\n"
     ]
    }
   ],
   "source": [
    "duplicated_rows = client_data.duplicated(subset=\"Id\", keep=False)\n",
    "print(f\"Existem {duplicated_rows.sum()} linhas duplicadas que necessitam ser excluídas\")"
   ]
  },
  {
   "cell_type": "code",
   "execution_count": 349,
   "metadata": {},
   "outputs": [
    {
     "name": "stdout",
     "output_type": "stream",
     "text": [
      "<class 'pandas.core.frame.DataFrame'>\n",
      "Int64Index: 438463 entries, 0 to 438556\n",
      "Data columns (total 18 columns):\n",
      " #   Column              Non-Null Count   Dtype  \n",
      "---  ------              --------------   -----  \n",
      " 0   Id                  438463 non-null  int64  \n",
      " 1   Genero              438463 non-null  object \n",
      " 2   Carro_proprio       438463 non-null  object \n",
      " 3   Residencia_Propria  438463 non-null  object \n",
      " 4   Qtde_Filhos         438463 non-null  int64  \n",
      " 5   Receita_Anual       438463 non-null  float64\n",
      " 6   Origem_Receita      438463 non-null  object \n",
      " 7   Escolaridade        438463 non-null  object \n",
      " 8   Estado_Civil        438463 non-null  object \n",
      " 9   Tipo_Moradia        438463 non-null  object \n",
      " 10  Aniv_Rel            438463 non-null  int64  \n",
      " 11  Dias_Empregado      438463 non-null  int64  \n",
      " 12  Possui_Celular      438463 non-null  int64  \n",
      " 13  Possui_Tel_Corp     438463 non-null  int64  \n",
      " 14  Possui_Tel_Fixo     438463 non-null  int64  \n",
      " 15  Possui_Email        438463 non-null  int64  \n",
      " 16  Ocupacao            438463 non-null  object \n",
      " 17  Tam_Familia         438463 non-null  float64\n",
      "dtypes: float64(2), int64(8), object(8)\n",
      "memory usage: 63.6+ MB\n"
     ]
    }
   ],
   "source": [
    "# Excluindo linhas duplicadas\n",
    "client_data.drop_duplicates(subset=\"Id\", keep=False, inplace=True)\n",
    "client_data.info()"
   ]
  },
  {
   "cell_type": "code",
   "execution_count": 350,
   "metadata": {},
   "outputs": [
    {
     "data": {
      "text/plain": [
       "ID                0\n",
       "MONTHS_BALANCE    0\n",
       "STATUS            0\n",
       "dtype: int64"
      ]
     },
     "execution_count": 350,
     "metadata": {},
     "output_type": "execute_result"
    }
   ],
   "source": [
    "# Analisando o dataset dpd_data para dados ausentes\n",
    "dpd_data.isna().sum()"
   ]
  },
  {
   "cell_type": "code",
   "execution_count": 351,
   "metadata": {},
   "outputs": [
    {
     "data": {
      "text/plain": [
       "Id                45985\n",
       "Months_balance       61\n",
       "Status                8\n",
       "dtype: int64"
      ]
     },
     "execution_count": 351,
     "metadata": {},
     "output_type": "execute_result"
    }
   ],
   "source": [
    "# Ajustando o nome das colunas\n",
    "colunas = dpd_data.columns.str.capitalize()\n",
    "dpd_data.columns = colunas\n",
    "dpd_data.nunique()\n"
   ]
  },
  {
   "cell_type": "markdown",
   "metadata": {},
   "source": [
    "Não temos dados ausentes no dataset dpd_data, portanto podemos prosseguir com as análises dos dados e aplicação de técnicas de credit scoring."
   ]
  },
  {
   "cell_type": "markdown",
   "metadata": {},
   "source": [
    "### Análise de Dados e Aplicação da Técnica Vintage Analysis\n",
    " "
   ]
  },
  {
   "cell_type": "markdown",
   "metadata": {},
   "source": [
    "Nosso primeiro passo é utilizar uma técnica de classificação de crédito para criar nossa variável resposta. Para tal, vamos utilizar um DPD (Days Past Due) de 30 dias em uma janela de 12 meses, identificada por ever30mob12. Nesta técnica, classificaremos como \"MAU PAGADOR\" todos os clientes que tiverem ao menos uma ocorrência de inadimplência maior que 30 dias no período de 12 meses a contar da data de hoje.\n",
    "\n",
    "Vamos utilizar o dataset dpd_data para este trabaho e então unificaremos os dataset's para estudarmos cada variável e seus comportamentos."
   ]
  },
  {
   "cell_type": "code",
   "execution_count": 352,
   "metadata": {},
   "outputs": [
    {
     "data": {
      "text/plain": [
       "-1     34436\n",
       "-2     34209\n",
       " 0     33856\n",
       "-3     33854\n",
       "-4     33365\n",
       "       ...  \n",
       "-56     2109\n",
       "-57     1649\n",
       "-58     1255\n",
       "-59      820\n",
       "-60      415\n",
       "Name: Months_balance, Length: 61, dtype: int64"
      ]
     },
     "execution_count": 352,
     "metadata": {},
     "output_type": "execute_result"
    }
   ],
   "source": [
    "# Vizualizando o período de exposição do dataset pdp_data\n",
    "dpd_data[\"Months_balance\"] = dpd_data[\"Months_balance\"].astype(\"int\")\n",
    "\n",
    "dpd_data[\"Months_balance\"].value_counts()\n"
   ]
  },
  {
   "cell_type": "code",
   "execution_count": 353,
   "metadata": {},
   "outputs": [
    {
     "data": {
      "text/plain": [
       "1    409708\n",
       "0      5155\n",
       "Name: Classe, dtype: int64"
      ]
     },
     "execution_count": 353,
     "metadata": {},
     "output_type": "execute_result"
    }
   ],
   "source": [
    "# Função para Classificação das Ocorrências em uma nova Coluna chamada Classe\n",
    "def classificador(classe):\n",
    "    class_90_menos = [\"0\", \"C\", \"X\"]\n",
    "    if classe in class_90_menos:\n",
    "        return 1\n",
    "    else:\n",
    "        return 0\n",
    "    \n",
    "# Filtrando o Dataset para exposição de 12 meses e Aplicando o Classificador\n",
    "\n",
    "dpd_data[\"Months_balance\"] = dpd_data[\"Months_balance\"].astype(int)\n",
    "dpd_data = dpd_data[(dpd_data[\"Months_balance\"] >= -12)]\n",
    "dpd_data[\"Classe\"] = dpd_data[\"Status\"].apply(classificador)\n",
    "dpd_data[\"Classe\"].value_counts()"
   ]
  },
  {
   "cell_type": "code",
   "execution_count": 354,
   "metadata": {},
   "outputs": [],
   "source": [
    "# Criando um novo dataset com a Classe por ID\n",
    "dpd_por_id = dpd_data.groupby(['Id']).mean()\n"
   ]
  },
  {
   "cell_type": "code",
   "execution_count": 355,
   "metadata": {},
   "outputs": [],
   "source": [
    "# Deletando coluna Months_Balance\n",
    "dpd_por_id.drop(\"Months_balance\", axis=1, inplace=True)"
   ]
  },
  {
   "cell_type": "markdown",
   "metadata": {},
   "source": [
    "Temos que ajustar os dados de Classe, visto que qualquer número diferente de 1 deve ser considerado 0, dentro do nosso período de análise de 12 meses."
   ]
  },
  {
   "cell_type": "code",
   "execution_count": 357,
   "metadata": {},
   "outputs": [
    {
     "data": {
      "text/plain": [
       "1    36940\n",
       "0     2339\n",
       "Name: Classe, dtype: int64"
      ]
     },
     "execution_count": 357,
     "metadata": {},
     "output_type": "execute_result"
    }
   ],
   "source": [
    "# Ajustando as Classes de Agrupamento\n",
    "def ajuste_de_classe(x):\n",
    "    if x != 1:\n",
    "        return 0\n",
    "    else:\n",
    "        return 1\n",
    "    \n",
    "# Aplicando a Série\n",
    "dpd_por_id[\"Classe\"] = dpd_por_id[\"Classe\"].map(ajuste_de_classe)\n",
    "dpd_por_id[\"Classe\"].value_counts()"
   ]
  },
  {
   "cell_type": "code",
   "execution_count": 358,
   "metadata": {},
   "outputs": [
    {
     "data": {
      "text/plain": [
       "Id                    0\n",
       "Genero                0\n",
       "Carro_proprio         0\n",
       "Residencia_Propria    0\n",
       "Qtde_Filhos           0\n",
       "Receita_Anual         0\n",
       "Origem_Receita        0\n",
       "Escolaridade          0\n",
       "Estado_Civil          0\n",
       "Tipo_Moradia          0\n",
       "Aniv_Rel              0\n",
       "Dias_Empregado        0\n",
       "Possui_Celular        0\n",
       "Possui_Tel_Corp       0\n",
       "Possui_Tel_Fixo       0\n",
       "Possui_Email          0\n",
       "Ocupacao              0\n",
       "Tam_Familia           0\n",
       "Classe                0\n",
       "dtype: int64"
      ]
     },
     "execution_count": 358,
     "metadata": {},
     "output_type": "execute_result"
    }
   ],
   "source": [
    "# Unificando os Datasets em um único de trabalho\n",
    "dataset = pd.merge(left=client_data, right=dpd_por_id, on=\"Id\")\n",
    "dataset.isna().sum()"
   ]
  },
  {
   "cell_type": "code",
   "execution_count": 359,
   "metadata": {},
   "outputs": [
    {
     "data": {
      "text/plain": [
       "1    27918\n",
       "0     1833\n",
       "Name: Classe, dtype: int64"
      ]
     },
     "execution_count": 359,
     "metadata": {},
     "output_type": "execute_result"
    }
   ],
   "source": [
    "# Verificando o Balanceamento do Dataset\n",
    "dataset[\"Classe\"].value_counts()"
   ]
  },
  {
   "cell_type": "markdown",
   "metadata": {},
   "source": [
    "Temos então um dataset desbalanceado, o que é normal para o problema de negócio, visto que temos mais adimplentes que inadimplentes em uma instituição financeira. No nosso caso, temos 6.56% de maus pagadores e 93.43% de bons pagadores."
   ]
  },
  {
   "cell_type": "markdown",
   "metadata": {},
   "source": [
    "#### Estudo dos Dados e Identificação de Padrões de Comportamento dos Tomadores de Crédito"
   ]
  },
  {
   "cell_type": "code",
   "execution_count": null,
   "metadata": {},
   "outputs": [],
   "source": []
  }
 ],
 "metadata": {
  "kernelspec": {
   "display_name": "base",
   "language": "python",
   "name": "python3"
  },
  "language_info": {
   "codemirror_mode": {
    "name": "ipython",
    "version": 3
   },
   "file_extension": ".py",
   "mimetype": "text/x-python",
   "name": "python",
   "nbconvert_exporter": "python",
   "pygments_lexer": "ipython3",
   "version": "3.11.4"
  }
 },
 "nbformat": 4,
 "nbformat_minor": 2
}
