{
 "cells": [
  {
   "attachments": {},
   "cell_type": "markdown",
   "id": "68219a28-f05e-454c-9430-3079cb2310e7",
   "metadata": {},
   "source": [
    "## Projeto 03 - Previsão do Nível de Satisfação de Clientes do Santander"
   ]
  },
  {
   "attachments": {},
   "cell_type": "markdown",
   "id": "0a91a4c8-e358-42db-87ab-23fb6cc25572",
   "metadata": {},
   "source": [
    "### Definindo o Problema de Negócio\n",
    "    A satisfação do Cliente é uma medida fundamental de sucesso. Clientes insatisfeitos cancelam seus serviços e raramente expressam sua insatisfação antes de sair. Clientes satisfeitos, por outro lado, se tornam defensores da marca!\n",
    "\n",
    "    O Banco Santander está pedindo para ajudá-los a identificar clientes insatisfeitos no início do relacionamento. Isso permitiria que o Santander adotasse medidas proativas para melhorar a experiência destes clientes antes que seja tarde demais.\n",
    "\n",
    "    Neste projeto de aprendizado de máquina, vamos trabalhar com centenas de recursos anônimos para prever se um cliente está satisfeito ou insatisfeito com sua experiência bancária. O desafio é exatamente desconhecer a informação de cada variável e ao mesmo tempo termos uma quantidade enorme delas.\n",
    "\n",
    "    Nosso objetivo é entregar  uma lista de clientes satisfeitos e insatisfeitos para o tomador de decisão, com uma acurácia de 70% em nosso modelo, buscando ter um modelo probabilístico mais simples e generalizável possível, facilitando assim para o tomador de decisão, utilizar seus resultados com boa clareza de entendimento. \n",
    "\n",
    "    Utilizaremos a linguagem Python e um dataset disponível no Kaggle, pelo endereço:\n",
    "\n",
    "    [https://www.kaggle.com/c/santander-customer-satisfaction](https://www.kaggle.com/c/santander-customer-satisfaction)\n",
    "    \n",
    "    Note que os dados estão em 2 arquivos separados, train.csv e test.csv. Apenas o arquivo train.csv possui variável resposta, então vamos trabalhar durante o processo de construção do modelo preditivo somente com ele. Usaremos o arquivo test.csv para realizar as previsões do melhor modelo encontrado e entregar ao tomador de decisão."
   ]
  },
  {
   "attachments": {},
   "cell_type": "markdown",
   "id": "11b925c1-e40f-47d2-b920-aae977921d91",
   "metadata": {},
   "source": [
    "### Pacotes e Versões"
   ]
  },
  {
   "cell_type": "code",
   "execution_count": 1,
   "id": "4be9ffe1-1399-4b6d-99fa-4b40096800d6",
   "metadata": {},
   "outputs": [
    {
     "name": "stdout",
     "output_type": "stream",
     "text": [
      "numpy     : 1.23.5\n",
      "matplotlib: 3.6.2\n",
      "sklearn   : 1.0.2\n",
      "pandas    : 1.5.2\n",
      "seaborn   : 0.12.2\n",
      "\n"
     ]
    }
   ],
   "source": [
    "# Imports\n",
    "import numpy as np\n",
    "from sklearn.model_selection import train_test_split\n",
    "from sklearn import preprocessing\n",
    "from sklearn.decomposition import PCA\n",
    "from sklearn.linear_model import SGDClassifier\n",
    "from sklearn.linear_model import LogisticRegression\n",
    "from sklearn.feature_selection import SelectFromModel\n",
    "from sklearn.metrics import accuracy_score\n",
    "from sklearn.metrics import precision_score\n",
    "from sklearn.metrics import roc_auc_score\n",
    "from imblearn.over_sampling import SMOTE\n",
    "import pandas as pd\n",
    "import seaborn as sns\n",
    "import matplotlib.pyplot as plt\n",
    "import warnings\n",
    "warnings.filterwarnings('ignore', category = FutureWarning)\n",
    "\n",
    "# Versões dos Pacotes\n",
    "%reload_ext watermark\n",
    "%watermark --iversions\n"
   ]
  },
  {
   "attachments": {},
   "cell_type": "markdown",
   "id": "d3470ba5-3ba4-4bdf-b2f6-25d70a6c4b6a",
   "metadata": {},
   "source": [
    "### Carregando os Datasets"
   ]
  },
  {
   "attachments": {},
   "cell_type": "markdown",
   "id": "6a0fb079-a6eb-4265-a403-50b08578f277",
   "metadata": {},
   "source": [
    "    Como explicamos na definição do problema, vamos trabalhar inicialmente somente com o arquivo train.csv."
   ]
  },
  {
   "cell_type": "code",
   "execution_count": 2,
   "id": "d80a78a7-6b23-40d8-8bdb-aa1f4e603d6c",
   "metadata": {},
   "outputs": [],
   "source": [
    "# Carregando os dados em um Dataframe do Pandas\n",
    "df = pd.read_csv('Dados/train.csv') "
   ]
  },
  {
   "cell_type": "code",
   "execution_count": 3,
   "id": "3062f9bd-e90d-4961-8f86-ba61ece4dc22",
   "metadata": {},
   "outputs": [
    {
     "data": {
      "text/html": [
       "<div>\n",
       "<style scoped>\n",
       "    .dataframe tbody tr th:only-of-type {\n",
       "        vertical-align: middle;\n",
       "    }\n",
       "\n",
       "    .dataframe tbody tr th {\n",
       "        vertical-align: top;\n",
       "    }\n",
       "\n",
       "    .dataframe thead th {\n",
       "        text-align: right;\n",
       "    }\n",
       "</style>\n",
       "<table border=\"1\" class=\"dataframe\">\n",
       "  <thead>\n",
       "    <tr style=\"text-align: right;\">\n",
       "      <th></th>\n",
       "      <th>ID</th>\n",
       "      <th>var3</th>\n",
       "      <th>var15</th>\n",
       "      <th>imp_ent_var16_ult1</th>\n",
       "      <th>imp_op_var39_comer_ult1</th>\n",
       "      <th>imp_op_var39_comer_ult3</th>\n",
       "      <th>imp_op_var40_comer_ult1</th>\n",
       "      <th>imp_op_var40_comer_ult3</th>\n",
       "      <th>imp_op_var40_efect_ult1</th>\n",
       "      <th>imp_op_var40_efect_ult3</th>\n",
       "      <th>...</th>\n",
       "      <th>saldo_medio_var33_hace2</th>\n",
       "      <th>saldo_medio_var33_hace3</th>\n",
       "      <th>saldo_medio_var33_ult1</th>\n",
       "      <th>saldo_medio_var33_ult3</th>\n",
       "      <th>saldo_medio_var44_hace2</th>\n",
       "      <th>saldo_medio_var44_hace3</th>\n",
       "      <th>saldo_medio_var44_ult1</th>\n",
       "      <th>saldo_medio_var44_ult3</th>\n",
       "      <th>var38</th>\n",
       "      <th>TARGET</th>\n",
       "    </tr>\n",
       "  </thead>\n",
       "  <tbody>\n",
       "    <tr>\n",
       "      <th>0</th>\n",
       "      <td>1</td>\n",
       "      <td>2</td>\n",
       "      <td>23</td>\n",
       "      <td>0.0</td>\n",
       "      <td>0.0</td>\n",
       "      <td>0.0</td>\n",
       "      <td>0.0</td>\n",
       "      <td>0.0</td>\n",
       "      <td>0.0</td>\n",
       "      <td>0.0</td>\n",
       "      <td>...</td>\n",
       "      <td>0.0</td>\n",
       "      <td>0.0</td>\n",
       "      <td>0.0</td>\n",
       "      <td>0.0</td>\n",
       "      <td>0.0</td>\n",
       "      <td>0.0</td>\n",
       "      <td>0.0</td>\n",
       "      <td>0.0</td>\n",
       "      <td>39205.170000</td>\n",
       "      <td>0</td>\n",
       "    </tr>\n",
       "    <tr>\n",
       "      <th>1</th>\n",
       "      <td>3</td>\n",
       "      <td>2</td>\n",
       "      <td>34</td>\n",
       "      <td>0.0</td>\n",
       "      <td>0.0</td>\n",
       "      <td>0.0</td>\n",
       "      <td>0.0</td>\n",
       "      <td>0.0</td>\n",
       "      <td>0.0</td>\n",
       "      <td>0.0</td>\n",
       "      <td>...</td>\n",
       "      <td>0.0</td>\n",
       "      <td>0.0</td>\n",
       "      <td>0.0</td>\n",
       "      <td>0.0</td>\n",
       "      <td>0.0</td>\n",
       "      <td>0.0</td>\n",
       "      <td>0.0</td>\n",
       "      <td>0.0</td>\n",
       "      <td>49278.030000</td>\n",
       "      <td>0</td>\n",
       "    </tr>\n",
       "    <tr>\n",
       "      <th>2</th>\n",
       "      <td>4</td>\n",
       "      <td>2</td>\n",
       "      <td>23</td>\n",
       "      <td>0.0</td>\n",
       "      <td>0.0</td>\n",
       "      <td>0.0</td>\n",
       "      <td>0.0</td>\n",
       "      <td>0.0</td>\n",
       "      <td>0.0</td>\n",
       "      <td>0.0</td>\n",
       "      <td>...</td>\n",
       "      <td>0.0</td>\n",
       "      <td>0.0</td>\n",
       "      <td>0.0</td>\n",
       "      <td>0.0</td>\n",
       "      <td>0.0</td>\n",
       "      <td>0.0</td>\n",
       "      <td>0.0</td>\n",
       "      <td>0.0</td>\n",
       "      <td>67333.770000</td>\n",
       "      <td>0</td>\n",
       "    </tr>\n",
       "    <tr>\n",
       "      <th>3</th>\n",
       "      <td>8</td>\n",
       "      <td>2</td>\n",
       "      <td>37</td>\n",
       "      <td>0.0</td>\n",
       "      <td>195.0</td>\n",
       "      <td>195.0</td>\n",
       "      <td>0.0</td>\n",
       "      <td>0.0</td>\n",
       "      <td>0.0</td>\n",
       "      <td>0.0</td>\n",
       "      <td>...</td>\n",
       "      <td>0.0</td>\n",
       "      <td>0.0</td>\n",
       "      <td>0.0</td>\n",
       "      <td>0.0</td>\n",
       "      <td>0.0</td>\n",
       "      <td>0.0</td>\n",
       "      <td>0.0</td>\n",
       "      <td>0.0</td>\n",
       "      <td>64007.970000</td>\n",
       "      <td>0</td>\n",
       "    </tr>\n",
       "    <tr>\n",
       "      <th>4</th>\n",
       "      <td>10</td>\n",
       "      <td>2</td>\n",
       "      <td>39</td>\n",
       "      <td>0.0</td>\n",
       "      <td>0.0</td>\n",
       "      <td>0.0</td>\n",
       "      <td>0.0</td>\n",
       "      <td>0.0</td>\n",
       "      <td>0.0</td>\n",
       "      <td>0.0</td>\n",
       "      <td>...</td>\n",
       "      <td>0.0</td>\n",
       "      <td>0.0</td>\n",
       "      <td>0.0</td>\n",
       "      <td>0.0</td>\n",
       "      <td>0.0</td>\n",
       "      <td>0.0</td>\n",
       "      <td>0.0</td>\n",
       "      <td>0.0</td>\n",
       "      <td>117310.979016</td>\n",
       "      <td>0</td>\n",
       "    </tr>\n",
       "    <tr>\n",
       "      <th>...</th>\n",
       "      <td>...</td>\n",
       "      <td>...</td>\n",
       "      <td>...</td>\n",
       "      <td>...</td>\n",
       "      <td>...</td>\n",
       "      <td>...</td>\n",
       "      <td>...</td>\n",
       "      <td>...</td>\n",
       "      <td>...</td>\n",
       "      <td>...</td>\n",
       "      <td>...</td>\n",
       "      <td>...</td>\n",
       "      <td>...</td>\n",
       "      <td>...</td>\n",
       "      <td>...</td>\n",
       "      <td>...</td>\n",
       "      <td>...</td>\n",
       "      <td>...</td>\n",
       "      <td>...</td>\n",
       "      <td>...</td>\n",
       "      <td>...</td>\n",
       "    </tr>\n",
       "    <tr>\n",
       "      <th>76015</th>\n",
       "      <td>151829</td>\n",
       "      <td>2</td>\n",
       "      <td>48</td>\n",
       "      <td>0.0</td>\n",
       "      <td>0.0</td>\n",
       "      <td>0.0</td>\n",
       "      <td>0.0</td>\n",
       "      <td>0.0</td>\n",
       "      <td>0.0</td>\n",
       "      <td>0.0</td>\n",
       "      <td>...</td>\n",
       "      <td>0.0</td>\n",
       "      <td>0.0</td>\n",
       "      <td>0.0</td>\n",
       "      <td>0.0</td>\n",
       "      <td>0.0</td>\n",
       "      <td>0.0</td>\n",
       "      <td>0.0</td>\n",
       "      <td>0.0</td>\n",
       "      <td>60926.490000</td>\n",
       "      <td>0</td>\n",
       "    </tr>\n",
       "    <tr>\n",
       "      <th>76016</th>\n",
       "      <td>151830</td>\n",
       "      <td>2</td>\n",
       "      <td>39</td>\n",
       "      <td>0.0</td>\n",
       "      <td>0.0</td>\n",
       "      <td>0.0</td>\n",
       "      <td>0.0</td>\n",
       "      <td>0.0</td>\n",
       "      <td>0.0</td>\n",
       "      <td>0.0</td>\n",
       "      <td>...</td>\n",
       "      <td>0.0</td>\n",
       "      <td>0.0</td>\n",
       "      <td>0.0</td>\n",
       "      <td>0.0</td>\n",
       "      <td>0.0</td>\n",
       "      <td>0.0</td>\n",
       "      <td>0.0</td>\n",
       "      <td>0.0</td>\n",
       "      <td>118634.520000</td>\n",
       "      <td>0</td>\n",
       "    </tr>\n",
       "    <tr>\n",
       "      <th>76017</th>\n",
       "      <td>151835</td>\n",
       "      <td>2</td>\n",
       "      <td>23</td>\n",
       "      <td>0.0</td>\n",
       "      <td>0.0</td>\n",
       "      <td>0.0</td>\n",
       "      <td>0.0</td>\n",
       "      <td>0.0</td>\n",
       "      <td>0.0</td>\n",
       "      <td>0.0</td>\n",
       "      <td>...</td>\n",
       "      <td>0.0</td>\n",
       "      <td>0.0</td>\n",
       "      <td>0.0</td>\n",
       "      <td>0.0</td>\n",
       "      <td>0.0</td>\n",
       "      <td>0.0</td>\n",
       "      <td>0.0</td>\n",
       "      <td>0.0</td>\n",
       "      <td>74028.150000</td>\n",
       "      <td>0</td>\n",
       "    </tr>\n",
       "    <tr>\n",
       "      <th>76018</th>\n",
       "      <td>151836</td>\n",
       "      <td>2</td>\n",
       "      <td>25</td>\n",
       "      <td>0.0</td>\n",
       "      <td>0.0</td>\n",
       "      <td>0.0</td>\n",
       "      <td>0.0</td>\n",
       "      <td>0.0</td>\n",
       "      <td>0.0</td>\n",
       "      <td>0.0</td>\n",
       "      <td>...</td>\n",
       "      <td>0.0</td>\n",
       "      <td>0.0</td>\n",
       "      <td>0.0</td>\n",
       "      <td>0.0</td>\n",
       "      <td>0.0</td>\n",
       "      <td>0.0</td>\n",
       "      <td>0.0</td>\n",
       "      <td>0.0</td>\n",
       "      <td>84278.160000</td>\n",
       "      <td>0</td>\n",
       "    </tr>\n",
       "    <tr>\n",
       "      <th>76019</th>\n",
       "      <td>151838</td>\n",
       "      <td>2</td>\n",
       "      <td>46</td>\n",
       "      <td>0.0</td>\n",
       "      <td>0.0</td>\n",
       "      <td>0.0</td>\n",
       "      <td>0.0</td>\n",
       "      <td>0.0</td>\n",
       "      <td>0.0</td>\n",
       "      <td>0.0</td>\n",
       "      <td>...</td>\n",
       "      <td>0.0</td>\n",
       "      <td>0.0</td>\n",
       "      <td>0.0</td>\n",
       "      <td>0.0</td>\n",
       "      <td>0.0</td>\n",
       "      <td>0.0</td>\n",
       "      <td>0.0</td>\n",
       "      <td>0.0</td>\n",
       "      <td>117310.979016</td>\n",
       "      <td>0</td>\n",
       "    </tr>\n",
       "  </tbody>\n",
       "</table>\n",
       "<p>76020 rows × 371 columns</p>\n",
       "</div>"
      ],
      "text/plain": [
       "           ID  var3  var15  imp_ent_var16_ult1  imp_op_var39_comer_ult1  \\\n",
       "0           1     2     23                 0.0                      0.0   \n",
       "1           3     2     34                 0.0                      0.0   \n",
       "2           4     2     23                 0.0                      0.0   \n",
       "3           8     2     37                 0.0                    195.0   \n",
       "4          10     2     39                 0.0                      0.0   \n",
       "...       ...   ...    ...                 ...                      ...   \n",
       "76015  151829     2     48                 0.0                      0.0   \n",
       "76016  151830     2     39                 0.0                      0.0   \n",
       "76017  151835     2     23                 0.0                      0.0   \n",
       "76018  151836     2     25                 0.0                      0.0   \n",
       "76019  151838     2     46                 0.0                      0.0   \n",
       "\n",
       "       imp_op_var39_comer_ult3  imp_op_var40_comer_ult1  \\\n",
       "0                          0.0                      0.0   \n",
       "1                          0.0                      0.0   \n",
       "2                          0.0                      0.0   \n",
       "3                        195.0                      0.0   \n",
       "4                          0.0                      0.0   \n",
       "...                        ...                      ...   \n",
       "76015                      0.0                      0.0   \n",
       "76016                      0.0                      0.0   \n",
       "76017                      0.0                      0.0   \n",
       "76018                      0.0                      0.0   \n",
       "76019                      0.0                      0.0   \n",
       "\n",
       "       imp_op_var40_comer_ult3  imp_op_var40_efect_ult1  \\\n",
       "0                          0.0                      0.0   \n",
       "1                          0.0                      0.0   \n",
       "2                          0.0                      0.0   \n",
       "3                          0.0                      0.0   \n",
       "4                          0.0                      0.0   \n",
       "...                        ...                      ...   \n",
       "76015                      0.0                      0.0   \n",
       "76016                      0.0                      0.0   \n",
       "76017                      0.0                      0.0   \n",
       "76018                      0.0                      0.0   \n",
       "76019                      0.0                      0.0   \n",
       "\n",
       "       imp_op_var40_efect_ult3  ...  saldo_medio_var33_hace2  \\\n",
       "0                          0.0  ...                      0.0   \n",
       "1                          0.0  ...                      0.0   \n",
       "2                          0.0  ...                      0.0   \n",
       "3                          0.0  ...                      0.0   \n",
       "4                          0.0  ...                      0.0   \n",
       "...                        ...  ...                      ...   \n",
       "76015                      0.0  ...                      0.0   \n",
       "76016                      0.0  ...                      0.0   \n",
       "76017                      0.0  ...                      0.0   \n",
       "76018                      0.0  ...                      0.0   \n",
       "76019                      0.0  ...                      0.0   \n",
       "\n",
       "       saldo_medio_var33_hace3  saldo_medio_var33_ult1  \\\n",
       "0                          0.0                     0.0   \n",
       "1                          0.0                     0.0   \n",
       "2                          0.0                     0.0   \n",
       "3                          0.0                     0.0   \n",
       "4                          0.0                     0.0   \n",
       "...                        ...                     ...   \n",
       "76015                      0.0                     0.0   \n",
       "76016                      0.0                     0.0   \n",
       "76017                      0.0                     0.0   \n",
       "76018                      0.0                     0.0   \n",
       "76019                      0.0                     0.0   \n",
       "\n",
       "       saldo_medio_var33_ult3  saldo_medio_var44_hace2  \\\n",
       "0                         0.0                      0.0   \n",
       "1                         0.0                      0.0   \n",
       "2                         0.0                      0.0   \n",
       "3                         0.0                      0.0   \n",
       "4                         0.0                      0.0   \n",
       "...                       ...                      ...   \n",
       "76015                     0.0                      0.0   \n",
       "76016                     0.0                      0.0   \n",
       "76017                     0.0                      0.0   \n",
       "76018                     0.0                      0.0   \n",
       "76019                     0.0                      0.0   \n",
       "\n",
       "       saldo_medio_var44_hace3  saldo_medio_var44_ult1  \\\n",
       "0                          0.0                     0.0   \n",
       "1                          0.0                     0.0   \n",
       "2                          0.0                     0.0   \n",
       "3                          0.0                     0.0   \n",
       "4                          0.0                     0.0   \n",
       "...                        ...                     ...   \n",
       "76015                      0.0                     0.0   \n",
       "76016                      0.0                     0.0   \n",
       "76017                      0.0                     0.0   \n",
       "76018                      0.0                     0.0   \n",
       "76019                      0.0                     0.0   \n",
       "\n",
       "       saldo_medio_var44_ult3          var38  TARGET  \n",
       "0                         0.0   39205.170000       0  \n",
       "1                         0.0   49278.030000       0  \n",
       "2                         0.0   67333.770000       0  \n",
       "3                         0.0   64007.970000       0  \n",
       "4                         0.0  117310.979016       0  \n",
       "...                       ...            ...     ...  \n",
       "76015                     0.0   60926.490000       0  \n",
       "76016                     0.0  118634.520000       0  \n",
       "76017                     0.0   74028.150000       0  \n",
       "76018                     0.0   84278.160000       0  \n",
       "76019                     0.0  117310.979016       0  \n",
       "\n",
       "[76020 rows x 371 columns]"
      ]
     },
     "execution_count": 3,
     "metadata": {},
     "output_type": "execute_result"
    }
   ],
   "source": [
    "# Visualizando os dados\n",
    "df"
   ]
  },
  {
   "cell_type": "code",
   "execution_count": 4,
   "id": "ad1b3fde-6a9b-4e59-b60a-60de861f76da",
   "metadata": {},
   "outputs": [
    {
     "name": "stdout",
     "output_type": "stream",
     "text": [
      "<class 'pandas.core.frame.DataFrame'>\n",
      "RangeIndex: 76020 entries, 0 to 76019\n",
      "Columns: 371 entries, ID to TARGET\n",
      "dtypes: float64(111), int64(260)\n",
      "memory usage: 215.2 MB\n"
     ]
    }
   ],
   "source": [
    "# Informações Gerais dos Dados\n",
    "df.info()"
   ]
  },
  {
   "attachments": {},
   "cell_type": "markdown",
   "id": "2f32a178-ca22-4ed8-9970-d3de7bf289ad",
   "metadata": {},
   "source": [
    "### Limpeza e Análise Exploratória"
   ]
  },
  {
   "attachments": {},
   "cell_type": "markdown",
   "id": "d999a745-1a89-4721-af87-e2e4fbbb01e9",
   "metadata": {},
   "source": [
    "    Olhando inicialmente para nossos dados, verificamos que possuimos um número imenso de variáveis sem descrição (370), ou seja, não temos como entender cada variável e analisar seus comportamentos, da forma que estão. Portanto inicialmente vamos verificar se temos dados faltantes (NaN), aplicando uma técnica para solucionar este problema. Logo depois vamos realizar 2 alternativas para uma redução de dimensionalidade, Seleção de Variáveis mais Importantes e Vetorização de Variáveis com PCA, para então criarmos os modelos e compará-los."
   ]
  },
  {
   "cell_type": "code",
   "execution_count": 5,
   "id": "af374090-efa2-4f9a-ab41-c149ea4af429",
   "metadata": {},
   "outputs": [
    {
     "data": {
      "text/plain": [
       "ID                         0\n",
       "var3                       0\n",
       "var15                      0\n",
       "imp_ent_var16_ult1         0\n",
       "imp_op_var39_comer_ult1    0\n",
       "                          ..\n",
       "saldo_medio_var44_hace3    0\n",
       "saldo_medio_var44_ult1     0\n",
       "saldo_medio_var44_ult3     0\n",
       "var38                      0\n",
       "TARGET                     0\n",
       "Length: 371, dtype: int64"
      ]
     },
     "execution_count": 5,
     "metadata": {},
     "output_type": "execute_result"
    }
   ],
   "source": [
    "# Identificando dados nulos ou NaN\n",
    "pd.isnull(df).sum()"
   ]
  },
  {
   "attachments": {},
   "cell_type": "markdown",
   "id": "99844c8b-dd19-4c94-99d0-7e5be46bdfde",
   "metadata": {},
   "source": [
    "    Não possuimos dados nulos, nem mesmo NaN em nosso dataset de trabalho. Vamos renomear as colunas para facilitar nossas visualizações."
   ]
  },
  {
   "cell_type": "code",
   "execution_count": 74,
   "id": "f3298510-2dba-4df7-96af-5454d197fbd2",
   "metadata": {},
   "outputs": [],
   "source": [
    "# Função para Renomear as Variáveis\n",
    "def ajusta_dados(df):\n",
    "    \n",
    "    # Reserva o Nome das Novas Colunas e Velhas Colunas\n",
    "    NewCols = []\n",
    "    for i in range(0, len(df.columns)):\n",
    "        col = \"Var\" + str(i)\n",
    "        NewCols.append(col)\n",
    "    NewCols[0] = 'ID'\n",
    "    if NewCols[-1] == 'TARGET':\n",
    "        NewCols[-1] = 'RESP'\n",
    "    else:\n",
    "        pass\n",
    "    OldCols = list(df.columns)\n",
    "\n",
    "    # Aplica o De-Para\n",
    "    DePara = {}\n",
    "    for i,j in zip(OldCols, NewCols):\n",
    "        DePara[i] = j\n",
    "    df.rename(columns = DePara, inplace = True)\n",
    "\n",
    "    return df\n",
    "    "
   ]
  },
  {
   "cell_type": "code",
   "execution_count": 14,
   "id": "2837c4aa",
   "metadata": {},
   "outputs": [
    {
     "data": {
      "text/html": [
       "<div>\n",
       "<style scoped>\n",
       "    .dataframe tbody tr th:only-of-type {\n",
       "        vertical-align: middle;\n",
       "    }\n",
       "\n",
       "    .dataframe tbody tr th {\n",
       "        vertical-align: top;\n",
       "    }\n",
       "\n",
       "    .dataframe thead th {\n",
       "        text-align: right;\n",
       "    }\n",
       "</style>\n",
       "<table border=\"1\" class=\"dataframe\">\n",
       "  <thead>\n",
       "    <tr style=\"text-align: right;\">\n",
       "      <th></th>\n",
       "      <th>ID</th>\n",
       "      <th>Var1</th>\n",
       "      <th>Var2</th>\n",
       "      <th>Var3</th>\n",
       "      <th>Var4</th>\n",
       "      <th>Var5</th>\n",
       "      <th>Var6</th>\n",
       "      <th>Var7</th>\n",
       "      <th>Var8</th>\n",
       "      <th>Var9</th>\n",
       "      <th>...</th>\n",
       "      <th>Var361</th>\n",
       "      <th>Var362</th>\n",
       "      <th>Var363</th>\n",
       "      <th>Var364</th>\n",
       "      <th>Var365</th>\n",
       "      <th>Var366</th>\n",
       "      <th>Var367</th>\n",
       "      <th>Var368</th>\n",
       "      <th>Var369</th>\n",
       "      <th>RESP</th>\n",
       "    </tr>\n",
       "  </thead>\n",
       "  <tbody>\n",
       "    <tr>\n",
       "      <th>0</th>\n",
       "      <td>1</td>\n",
       "      <td>2</td>\n",
       "      <td>23</td>\n",
       "      <td>0.0</td>\n",
       "      <td>0.0</td>\n",
       "      <td>0.0</td>\n",
       "      <td>0.0</td>\n",
       "      <td>0.0</td>\n",
       "      <td>0.0</td>\n",
       "      <td>0.0</td>\n",
       "      <td>...</td>\n",
       "      <td>0.0</td>\n",
       "      <td>0.0</td>\n",
       "      <td>0.0</td>\n",
       "      <td>0.0</td>\n",
       "      <td>0.0</td>\n",
       "      <td>0.0</td>\n",
       "      <td>0.0</td>\n",
       "      <td>0.0</td>\n",
       "      <td>39205.170000</td>\n",
       "      <td>0</td>\n",
       "    </tr>\n",
       "    <tr>\n",
       "      <th>1</th>\n",
       "      <td>3</td>\n",
       "      <td>2</td>\n",
       "      <td>34</td>\n",
       "      <td>0.0</td>\n",
       "      <td>0.0</td>\n",
       "      <td>0.0</td>\n",
       "      <td>0.0</td>\n",
       "      <td>0.0</td>\n",
       "      <td>0.0</td>\n",
       "      <td>0.0</td>\n",
       "      <td>...</td>\n",
       "      <td>0.0</td>\n",
       "      <td>0.0</td>\n",
       "      <td>0.0</td>\n",
       "      <td>0.0</td>\n",
       "      <td>0.0</td>\n",
       "      <td>0.0</td>\n",
       "      <td>0.0</td>\n",
       "      <td>0.0</td>\n",
       "      <td>49278.030000</td>\n",
       "      <td>0</td>\n",
       "    </tr>\n",
       "    <tr>\n",
       "      <th>2</th>\n",
       "      <td>4</td>\n",
       "      <td>2</td>\n",
       "      <td>23</td>\n",
       "      <td>0.0</td>\n",
       "      <td>0.0</td>\n",
       "      <td>0.0</td>\n",
       "      <td>0.0</td>\n",
       "      <td>0.0</td>\n",
       "      <td>0.0</td>\n",
       "      <td>0.0</td>\n",
       "      <td>...</td>\n",
       "      <td>0.0</td>\n",
       "      <td>0.0</td>\n",
       "      <td>0.0</td>\n",
       "      <td>0.0</td>\n",
       "      <td>0.0</td>\n",
       "      <td>0.0</td>\n",
       "      <td>0.0</td>\n",
       "      <td>0.0</td>\n",
       "      <td>67333.770000</td>\n",
       "      <td>0</td>\n",
       "    </tr>\n",
       "    <tr>\n",
       "      <th>3</th>\n",
       "      <td>8</td>\n",
       "      <td>2</td>\n",
       "      <td>37</td>\n",
       "      <td>0.0</td>\n",
       "      <td>195.0</td>\n",
       "      <td>195.0</td>\n",
       "      <td>0.0</td>\n",
       "      <td>0.0</td>\n",
       "      <td>0.0</td>\n",
       "      <td>0.0</td>\n",
       "      <td>...</td>\n",
       "      <td>0.0</td>\n",
       "      <td>0.0</td>\n",
       "      <td>0.0</td>\n",
       "      <td>0.0</td>\n",
       "      <td>0.0</td>\n",
       "      <td>0.0</td>\n",
       "      <td>0.0</td>\n",
       "      <td>0.0</td>\n",
       "      <td>64007.970000</td>\n",
       "      <td>0</td>\n",
       "    </tr>\n",
       "    <tr>\n",
       "      <th>4</th>\n",
       "      <td>10</td>\n",
       "      <td>2</td>\n",
       "      <td>39</td>\n",
       "      <td>0.0</td>\n",
       "      <td>0.0</td>\n",
       "      <td>0.0</td>\n",
       "      <td>0.0</td>\n",
       "      <td>0.0</td>\n",
       "      <td>0.0</td>\n",
       "      <td>0.0</td>\n",
       "      <td>...</td>\n",
       "      <td>0.0</td>\n",
       "      <td>0.0</td>\n",
       "      <td>0.0</td>\n",
       "      <td>0.0</td>\n",
       "      <td>0.0</td>\n",
       "      <td>0.0</td>\n",
       "      <td>0.0</td>\n",
       "      <td>0.0</td>\n",
       "      <td>117310.979016</td>\n",
       "      <td>0</td>\n",
       "    </tr>\n",
       "    <tr>\n",
       "      <th>...</th>\n",
       "      <td>...</td>\n",
       "      <td>...</td>\n",
       "      <td>...</td>\n",
       "      <td>...</td>\n",
       "      <td>...</td>\n",
       "      <td>...</td>\n",
       "      <td>...</td>\n",
       "      <td>...</td>\n",
       "      <td>...</td>\n",
       "      <td>...</td>\n",
       "      <td>...</td>\n",
       "      <td>...</td>\n",
       "      <td>...</td>\n",
       "      <td>...</td>\n",
       "      <td>...</td>\n",
       "      <td>...</td>\n",
       "      <td>...</td>\n",
       "      <td>...</td>\n",
       "      <td>...</td>\n",
       "      <td>...</td>\n",
       "      <td>...</td>\n",
       "    </tr>\n",
       "    <tr>\n",
       "      <th>76015</th>\n",
       "      <td>151829</td>\n",
       "      <td>2</td>\n",
       "      <td>48</td>\n",
       "      <td>0.0</td>\n",
       "      <td>0.0</td>\n",
       "      <td>0.0</td>\n",
       "      <td>0.0</td>\n",
       "      <td>0.0</td>\n",
       "      <td>0.0</td>\n",
       "      <td>0.0</td>\n",
       "      <td>...</td>\n",
       "      <td>0.0</td>\n",
       "      <td>0.0</td>\n",
       "      <td>0.0</td>\n",
       "      <td>0.0</td>\n",
       "      <td>0.0</td>\n",
       "      <td>0.0</td>\n",
       "      <td>0.0</td>\n",
       "      <td>0.0</td>\n",
       "      <td>60926.490000</td>\n",
       "      <td>0</td>\n",
       "    </tr>\n",
       "    <tr>\n",
       "      <th>76016</th>\n",
       "      <td>151830</td>\n",
       "      <td>2</td>\n",
       "      <td>39</td>\n",
       "      <td>0.0</td>\n",
       "      <td>0.0</td>\n",
       "      <td>0.0</td>\n",
       "      <td>0.0</td>\n",
       "      <td>0.0</td>\n",
       "      <td>0.0</td>\n",
       "      <td>0.0</td>\n",
       "      <td>...</td>\n",
       "      <td>0.0</td>\n",
       "      <td>0.0</td>\n",
       "      <td>0.0</td>\n",
       "      <td>0.0</td>\n",
       "      <td>0.0</td>\n",
       "      <td>0.0</td>\n",
       "      <td>0.0</td>\n",
       "      <td>0.0</td>\n",
       "      <td>118634.520000</td>\n",
       "      <td>0</td>\n",
       "    </tr>\n",
       "    <tr>\n",
       "      <th>76017</th>\n",
       "      <td>151835</td>\n",
       "      <td>2</td>\n",
       "      <td>23</td>\n",
       "      <td>0.0</td>\n",
       "      <td>0.0</td>\n",
       "      <td>0.0</td>\n",
       "      <td>0.0</td>\n",
       "      <td>0.0</td>\n",
       "      <td>0.0</td>\n",
       "      <td>0.0</td>\n",
       "      <td>...</td>\n",
       "      <td>0.0</td>\n",
       "      <td>0.0</td>\n",
       "      <td>0.0</td>\n",
       "      <td>0.0</td>\n",
       "      <td>0.0</td>\n",
       "      <td>0.0</td>\n",
       "      <td>0.0</td>\n",
       "      <td>0.0</td>\n",
       "      <td>74028.150000</td>\n",
       "      <td>0</td>\n",
       "    </tr>\n",
       "    <tr>\n",
       "      <th>76018</th>\n",
       "      <td>151836</td>\n",
       "      <td>2</td>\n",
       "      <td>25</td>\n",
       "      <td>0.0</td>\n",
       "      <td>0.0</td>\n",
       "      <td>0.0</td>\n",
       "      <td>0.0</td>\n",
       "      <td>0.0</td>\n",
       "      <td>0.0</td>\n",
       "      <td>0.0</td>\n",
       "      <td>...</td>\n",
       "      <td>0.0</td>\n",
       "      <td>0.0</td>\n",
       "      <td>0.0</td>\n",
       "      <td>0.0</td>\n",
       "      <td>0.0</td>\n",
       "      <td>0.0</td>\n",
       "      <td>0.0</td>\n",
       "      <td>0.0</td>\n",
       "      <td>84278.160000</td>\n",
       "      <td>0</td>\n",
       "    </tr>\n",
       "    <tr>\n",
       "      <th>76019</th>\n",
       "      <td>151838</td>\n",
       "      <td>2</td>\n",
       "      <td>46</td>\n",
       "      <td>0.0</td>\n",
       "      <td>0.0</td>\n",
       "      <td>0.0</td>\n",
       "      <td>0.0</td>\n",
       "      <td>0.0</td>\n",
       "      <td>0.0</td>\n",
       "      <td>0.0</td>\n",
       "      <td>...</td>\n",
       "      <td>0.0</td>\n",
       "      <td>0.0</td>\n",
       "      <td>0.0</td>\n",
       "      <td>0.0</td>\n",
       "      <td>0.0</td>\n",
       "      <td>0.0</td>\n",
       "      <td>0.0</td>\n",
       "      <td>0.0</td>\n",
       "      <td>117310.979016</td>\n",
       "      <td>0</td>\n",
       "    </tr>\n",
       "  </tbody>\n",
       "</table>\n",
       "<p>76020 rows × 371 columns</p>\n",
       "</div>"
      ],
      "text/plain": [
       "           ID  Var1  Var2  Var3   Var4   Var5  Var6  Var7  Var8  Var9  ...  \\\n",
       "0           1     2    23   0.0    0.0    0.0   0.0   0.0   0.0   0.0  ...   \n",
       "1           3     2    34   0.0    0.0    0.0   0.0   0.0   0.0   0.0  ...   \n",
       "2           4     2    23   0.0    0.0    0.0   0.0   0.0   0.0   0.0  ...   \n",
       "3           8     2    37   0.0  195.0  195.0   0.0   0.0   0.0   0.0  ...   \n",
       "4          10     2    39   0.0    0.0    0.0   0.0   0.0   0.0   0.0  ...   \n",
       "...       ...   ...   ...   ...    ...    ...   ...   ...   ...   ...  ...   \n",
       "76015  151829     2    48   0.0    0.0    0.0   0.0   0.0   0.0   0.0  ...   \n",
       "76016  151830     2    39   0.0    0.0    0.0   0.0   0.0   0.0   0.0  ...   \n",
       "76017  151835     2    23   0.0    0.0    0.0   0.0   0.0   0.0   0.0  ...   \n",
       "76018  151836     2    25   0.0    0.0    0.0   0.0   0.0   0.0   0.0  ...   \n",
       "76019  151838     2    46   0.0    0.0    0.0   0.0   0.0   0.0   0.0  ...   \n",
       "\n",
       "       Var361  Var362  Var363  Var364  Var365  Var366  Var367  Var368  \\\n",
       "0         0.0     0.0     0.0     0.0     0.0     0.0     0.0     0.0   \n",
       "1         0.0     0.0     0.0     0.0     0.0     0.0     0.0     0.0   \n",
       "2         0.0     0.0     0.0     0.0     0.0     0.0     0.0     0.0   \n",
       "3         0.0     0.0     0.0     0.0     0.0     0.0     0.0     0.0   \n",
       "4         0.0     0.0     0.0     0.0     0.0     0.0     0.0     0.0   \n",
       "...       ...     ...     ...     ...     ...     ...     ...     ...   \n",
       "76015     0.0     0.0     0.0     0.0     0.0     0.0     0.0     0.0   \n",
       "76016     0.0     0.0     0.0     0.0     0.0     0.0     0.0     0.0   \n",
       "76017     0.0     0.0     0.0     0.0     0.0     0.0     0.0     0.0   \n",
       "76018     0.0     0.0     0.0     0.0     0.0     0.0     0.0     0.0   \n",
       "76019     0.0     0.0     0.0     0.0     0.0     0.0     0.0     0.0   \n",
       "\n",
       "              Var369  RESP  \n",
       "0       39205.170000     0  \n",
       "1       49278.030000     0  \n",
       "2       67333.770000     0  \n",
       "3       64007.970000     0  \n",
       "4      117310.979016     0  \n",
       "...              ...   ...  \n",
       "76015   60926.490000     0  \n",
       "76016  118634.520000     0  \n",
       "76017   74028.150000     0  \n",
       "76018   84278.160000     0  \n",
       "76019  117310.979016     0  \n",
       "\n",
       "[76020 rows x 371 columns]"
      ]
     },
     "execution_count": 14,
     "metadata": {},
     "output_type": "execute_result"
    }
   ],
   "source": [
    "# Aplica a Função ajusta_dados()\n",
    "df = ajusta_dados(df=df)\n",
    "df"
   ]
  },
  {
   "attachments": {},
   "cell_type": "markdown",
   "id": "e825c617-7d74-4fca-a7a6-c27993aab4b6",
   "metadata": {},
   "source": [
    "    Para continuar com nossos trabalhos, vamos eliminar a varável 'ID' em uma nova versão do nosso Dataset, pois a mesma não possui nenhum ganho de informação estatística."
   ]
  },
  {
   "cell_type": "code",
   "execution_count": 17,
   "id": "b3c44fc2-8b79-4dfe-af8d-867daace10d5",
   "metadata": {},
   "outputs": [],
   "source": [
    "# Vamos eliminar as variáveis RESP e ID em um novo Dataset\n",
    "df1 = df.drop(['ID'], axis =1)"
   ]
  },
  {
   "cell_type": "code",
   "execution_count": 18,
   "id": "468e6182-5707-4da5-ade4-3a8d03d11fb3",
   "metadata": {},
   "outputs": [
    {
     "data": {
      "text/html": [
       "<div>\n",
       "<style scoped>\n",
       "    .dataframe tbody tr th:only-of-type {\n",
       "        vertical-align: middle;\n",
       "    }\n",
       "\n",
       "    .dataframe tbody tr th {\n",
       "        vertical-align: top;\n",
       "    }\n",
       "\n",
       "    .dataframe thead th {\n",
       "        text-align: right;\n",
       "    }\n",
       "</style>\n",
       "<table border=\"1\" class=\"dataframe\">\n",
       "  <thead>\n",
       "    <tr style=\"text-align: right;\">\n",
       "      <th></th>\n",
       "      <th>Var1</th>\n",
       "      <th>Var2</th>\n",
       "      <th>Var3</th>\n",
       "      <th>Var4</th>\n",
       "      <th>Var5</th>\n",
       "      <th>Var6</th>\n",
       "      <th>Var7</th>\n",
       "      <th>Var8</th>\n",
       "      <th>Var9</th>\n",
       "      <th>Var10</th>\n",
       "      <th>...</th>\n",
       "      <th>Var361</th>\n",
       "      <th>Var362</th>\n",
       "      <th>Var363</th>\n",
       "      <th>Var364</th>\n",
       "      <th>Var365</th>\n",
       "      <th>Var366</th>\n",
       "      <th>Var367</th>\n",
       "      <th>Var368</th>\n",
       "      <th>Var369</th>\n",
       "      <th>RESP</th>\n",
       "    </tr>\n",
       "  </thead>\n",
       "  <tbody>\n",
       "    <tr>\n",
       "      <th>0</th>\n",
       "      <td>2</td>\n",
       "      <td>23</td>\n",
       "      <td>0.0</td>\n",
       "      <td>0.0</td>\n",
       "      <td>0.0</td>\n",
       "      <td>0.0</td>\n",
       "      <td>0.0</td>\n",
       "      <td>0.0</td>\n",
       "      <td>0.0</td>\n",
       "      <td>0.0</td>\n",
       "      <td>...</td>\n",
       "      <td>0.0</td>\n",
       "      <td>0.0</td>\n",
       "      <td>0.0</td>\n",
       "      <td>0.0</td>\n",
       "      <td>0.0</td>\n",
       "      <td>0.0</td>\n",
       "      <td>0.0</td>\n",
       "      <td>0.0</td>\n",
       "      <td>39205.170000</td>\n",
       "      <td>0</td>\n",
       "    </tr>\n",
       "    <tr>\n",
       "      <th>1</th>\n",
       "      <td>2</td>\n",
       "      <td>34</td>\n",
       "      <td>0.0</td>\n",
       "      <td>0.0</td>\n",
       "      <td>0.0</td>\n",
       "      <td>0.0</td>\n",
       "      <td>0.0</td>\n",
       "      <td>0.0</td>\n",
       "      <td>0.0</td>\n",
       "      <td>0.0</td>\n",
       "      <td>...</td>\n",
       "      <td>0.0</td>\n",
       "      <td>0.0</td>\n",
       "      <td>0.0</td>\n",
       "      <td>0.0</td>\n",
       "      <td>0.0</td>\n",
       "      <td>0.0</td>\n",
       "      <td>0.0</td>\n",
       "      <td>0.0</td>\n",
       "      <td>49278.030000</td>\n",
       "      <td>0</td>\n",
       "    </tr>\n",
       "    <tr>\n",
       "      <th>2</th>\n",
       "      <td>2</td>\n",
       "      <td>23</td>\n",
       "      <td>0.0</td>\n",
       "      <td>0.0</td>\n",
       "      <td>0.0</td>\n",
       "      <td>0.0</td>\n",
       "      <td>0.0</td>\n",
       "      <td>0.0</td>\n",
       "      <td>0.0</td>\n",
       "      <td>0.0</td>\n",
       "      <td>...</td>\n",
       "      <td>0.0</td>\n",
       "      <td>0.0</td>\n",
       "      <td>0.0</td>\n",
       "      <td>0.0</td>\n",
       "      <td>0.0</td>\n",
       "      <td>0.0</td>\n",
       "      <td>0.0</td>\n",
       "      <td>0.0</td>\n",
       "      <td>67333.770000</td>\n",
       "      <td>0</td>\n",
       "    </tr>\n",
       "    <tr>\n",
       "      <th>3</th>\n",
       "      <td>2</td>\n",
       "      <td>37</td>\n",
       "      <td>0.0</td>\n",
       "      <td>195.0</td>\n",
       "      <td>195.0</td>\n",
       "      <td>0.0</td>\n",
       "      <td>0.0</td>\n",
       "      <td>0.0</td>\n",
       "      <td>0.0</td>\n",
       "      <td>0.0</td>\n",
       "      <td>...</td>\n",
       "      <td>0.0</td>\n",
       "      <td>0.0</td>\n",
       "      <td>0.0</td>\n",
       "      <td>0.0</td>\n",
       "      <td>0.0</td>\n",
       "      <td>0.0</td>\n",
       "      <td>0.0</td>\n",
       "      <td>0.0</td>\n",
       "      <td>64007.970000</td>\n",
       "      <td>0</td>\n",
       "    </tr>\n",
       "    <tr>\n",
       "      <th>4</th>\n",
       "      <td>2</td>\n",
       "      <td>39</td>\n",
       "      <td>0.0</td>\n",
       "      <td>0.0</td>\n",
       "      <td>0.0</td>\n",
       "      <td>0.0</td>\n",
       "      <td>0.0</td>\n",
       "      <td>0.0</td>\n",
       "      <td>0.0</td>\n",
       "      <td>0.0</td>\n",
       "      <td>...</td>\n",
       "      <td>0.0</td>\n",
       "      <td>0.0</td>\n",
       "      <td>0.0</td>\n",
       "      <td>0.0</td>\n",
       "      <td>0.0</td>\n",
       "      <td>0.0</td>\n",
       "      <td>0.0</td>\n",
       "      <td>0.0</td>\n",
       "      <td>117310.979016</td>\n",
       "      <td>0</td>\n",
       "    </tr>\n",
       "    <tr>\n",
       "      <th>...</th>\n",
       "      <td>...</td>\n",
       "      <td>...</td>\n",
       "      <td>...</td>\n",
       "      <td>...</td>\n",
       "      <td>...</td>\n",
       "      <td>...</td>\n",
       "      <td>...</td>\n",
       "      <td>...</td>\n",
       "      <td>...</td>\n",
       "      <td>...</td>\n",
       "      <td>...</td>\n",
       "      <td>...</td>\n",
       "      <td>...</td>\n",
       "      <td>...</td>\n",
       "      <td>...</td>\n",
       "      <td>...</td>\n",
       "      <td>...</td>\n",
       "      <td>...</td>\n",
       "      <td>...</td>\n",
       "      <td>...</td>\n",
       "      <td>...</td>\n",
       "    </tr>\n",
       "    <tr>\n",
       "      <th>76015</th>\n",
       "      <td>2</td>\n",
       "      <td>48</td>\n",
       "      <td>0.0</td>\n",
       "      <td>0.0</td>\n",
       "      <td>0.0</td>\n",
       "      <td>0.0</td>\n",
       "      <td>0.0</td>\n",
       "      <td>0.0</td>\n",
       "      <td>0.0</td>\n",
       "      <td>0.0</td>\n",
       "      <td>...</td>\n",
       "      <td>0.0</td>\n",
       "      <td>0.0</td>\n",
       "      <td>0.0</td>\n",
       "      <td>0.0</td>\n",
       "      <td>0.0</td>\n",
       "      <td>0.0</td>\n",
       "      <td>0.0</td>\n",
       "      <td>0.0</td>\n",
       "      <td>60926.490000</td>\n",
       "      <td>0</td>\n",
       "    </tr>\n",
       "    <tr>\n",
       "      <th>76016</th>\n",
       "      <td>2</td>\n",
       "      <td>39</td>\n",
       "      <td>0.0</td>\n",
       "      <td>0.0</td>\n",
       "      <td>0.0</td>\n",
       "      <td>0.0</td>\n",
       "      <td>0.0</td>\n",
       "      <td>0.0</td>\n",
       "      <td>0.0</td>\n",
       "      <td>0.0</td>\n",
       "      <td>...</td>\n",
       "      <td>0.0</td>\n",
       "      <td>0.0</td>\n",
       "      <td>0.0</td>\n",
       "      <td>0.0</td>\n",
       "      <td>0.0</td>\n",
       "      <td>0.0</td>\n",
       "      <td>0.0</td>\n",
       "      <td>0.0</td>\n",
       "      <td>118634.520000</td>\n",
       "      <td>0</td>\n",
       "    </tr>\n",
       "    <tr>\n",
       "      <th>76017</th>\n",
       "      <td>2</td>\n",
       "      <td>23</td>\n",
       "      <td>0.0</td>\n",
       "      <td>0.0</td>\n",
       "      <td>0.0</td>\n",
       "      <td>0.0</td>\n",
       "      <td>0.0</td>\n",
       "      <td>0.0</td>\n",
       "      <td>0.0</td>\n",
       "      <td>0.0</td>\n",
       "      <td>...</td>\n",
       "      <td>0.0</td>\n",
       "      <td>0.0</td>\n",
       "      <td>0.0</td>\n",
       "      <td>0.0</td>\n",
       "      <td>0.0</td>\n",
       "      <td>0.0</td>\n",
       "      <td>0.0</td>\n",
       "      <td>0.0</td>\n",
       "      <td>74028.150000</td>\n",
       "      <td>0</td>\n",
       "    </tr>\n",
       "    <tr>\n",
       "      <th>76018</th>\n",
       "      <td>2</td>\n",
       "      <td>25</td>\n",
       "      <td>0.0</td>\n",
       "      <td>0.0</td>\n",
       "      <td>0.0</td>\n",
       "      <td>0.0</td>\n",
       "      <td>0.0</td>\n",
       "      <td>0.0</td>\n",
       "      <td>0.0</td>\n",
       "      <td>0.0</td>\n",
       "      <td>...</td>\n",
       "      <td>0.0</td>\n",
       "      <td>0.0</td>\n",
       "      <td>0.0</td>\n",
       "      <td>0.0</td>\n",
       "      <td>0.0</td>\n",
       "      <td>0.0</td>\n",
       "      <td>0.0</td>\n",
       "      <td>0.0</td>\n",
       "      <td>84278.160000</td>\n",
       "      <td>0</td>\n",
       "    </tr>\n",
       "    <tr>\n",
       "      <th>76019</th>\n",
       "      <td>2</td>\n",
       "      <td>46</td>\n",
       "      <td>0.0</td>\n",
       "      <td>0.0</td>\n",
       "      <td>0.0</td>\n",
       "      <td>0.0</td>\n",
       "      <td>0.0</td>\n",
       "      <td>0.0</td>\n",
       "      <td>0.0</td>\n",
       "      <td>0.0</td>\n",
       "      <td>...</td>\n",
       "      <td>0.0</td>\n",
       "      <td>0.0</td>\n",
       "      <td>0.0</td>\n",
       "      <td>0.0</td>\n",
       "      <td>0.0</td>\n",
       "      <td>0.0</td>\n",
       "      <td>0.0</td>\n",
       "      <td>0.0</td>\n",
       "      <td>117310.979016</td>\n",
       "      <td>0</td>\n",
       "    </tr>\n",
       "  </tbody>\n",
       "</table>\n",
       "<p>76020 rows × 370 columns</p>\n",
       "</div>"
      ],
      "text/plain": [
       "       Var1  Var2  Var3   Var4   Var5  Var6  Var7  Var8  Var9  Var10  ...  \\\n",
       "0         2    23   0.0    0.0    0.0   0.0   0.0   0.0   0.0    0.0  ...   \n",
       "1         2    34   0.0    0.0    0.0   0.0   0.0   0.0   0.0    0.0  ...   \n",
       "2         2    23   0.0    0.0    0.0   0.0   0.0   0.0   0.0    0.0  ...   \n",
       "3         2    37   0.0  195.0  195.0   0.0   0.0   0.0   0.0    0.0  ...   \n",
       "4         2    39   0.0    0.0    0.0   0.0   0.0   0.0   0.0    0.0  ...   \n",
       "...     ...   ...   ...    ...    ...   ...   ...   ...   ...    ...  ...   \n",
       "76015     2    48   0.0    0.0    0.0   0.0   0.0   0.0   0.0    0.0  ...   \n",
       "76016     2    39   0.0    0.0    0.0   0.0   0.0   0.0   0.0    0.0  ...   \n",
       "76017     2    23   0.0    0.0    0.0   0.0   0.0   0.0   0.0    0.0  ...   \n",
       "76018     2    25   0.0    0.0    0.0   0.0   0.0   0.0   0.0    0.0  ...   \n",
       "76019     2    46   0.0    0.0    0.0   0.0   0.0   0.0   0.0    0.0  ...   \n",
       "\n",
       "       Var361  Var362  Var363  Var364  Var365  Var366  Var367  Var368  \\\n",
       "0         0.0     0.0     0.0     0.0     0.0     0.0     0.0     0.0   \n",
       "1         0.0     0.0     0.0     0.0     0.0     0.0     0.0     0.0   \n",
       "2         0.0     0.0     0.0     0.0     0.0     0.0     0.0     0.0   \n",
       "3         0.0     0.0     0.0     0.0     0.0     0.0     0.0     0.0   \n",
       "4         0.0     0.0     0.0     0.0     0.0     0.0     0.0     0.0   \n",
       "...       ...     ...     ...     ...     ...     ...     ...     ...   \n",
       "76015     0.0     0.0     0.0     0.0     0.0     0.0     0.0     0.0   \n",
       "76016     0.0     0.0     0.0     0.0     0.0     0.0     0.0     0.0   \n",
       "76017     0.0     0.0     0.0     0.0     0.0     0.0     0.0     0.0   \n",
       "76018     0.0     0.0     0.0     0.0     0.0     0.0     0.0     0.0   \n",
       "76019     0.0     0.0     0.0     0.0     0.0     0.0     0.0     0.0   \n",
       "\n",
       "              Var369  RESP  \n",
       "0       39205.170000     0  \n",
       "1       49278.030000     0  \n",
       "2       67333.770000     0  \n",
       "3       64007.970000     0  \n",
       "4      117310.979016     0  \n",
       "...              ...   ...  \n",
       "76015   60926.490000     0  \n",
       "76016  118634.520000     0  \n",
       "76017   74028.150000     0  \n",
       "76018   84278.160000     0  \n",
       "76019  117310.979016     0  \n",
       "\n",
       "[76020 rows x 370 columns]"
      ]
     },
     "execution_count": 18,
     "metadata": {},
     "output_type": "execute_result"
    }
   ],
   "source": [
    "df1"
   ]
  },
  {
   "attachments": {},
   "cell_type": "markdown",
   "id": "f2d33813-4ccb-4b5b-a220-1a4592b56997",
   "metadata": {},
   "source": [
    "    Nosso Dataset está organizado e limpo, como temos um número muito grande de variáveis e não sabemos a informação que cada uma representa ao problema de negócio, fica inviável estudar a correlação entre as variáveis ou mesmo analisar as estatísticas centrais e de dispersão. Nosso trabalho agora é iniciar uma redução de dimensionalidadede antes de aplicarmos modelagem preditiva.\n",
    "\n",
    "    Para finalizarmos, vamos contar a variável target e identificar como ela está distribuida."
   ]
  },
  {
   "cell_type": "code",
   "execution_count": 19,
   "id": "8c0973e8",
   "metadata": {},
   "outputs": [
    {
     "data": {
      "text/plain": [
       "0    73012\n",
       "1     3008\n",
       "Name: RESP, dtype: int64"
      ]
     },
     "execution_count": 19,
     "metadata": {},
     "output_type": "execute_result"
    }
   ],
   "source": [
    "df1['RESP'].value_counts()"
   ]
  },
  {
   "attachments": {},
   "cell_type": "markdown",
   "id": "d787fb4d",
   "metadata": {},
   "source": [
    "    Percebemos que temos muitas amostras do tipo 0  (clientes contentes) e pouquissimas amostras do tipo 1 (Clientes descontentes). É muito comum acontecer esse tipo de desbalanceamento em problemas de negócio como fraudes ou analise de sentimentos.\n",
    "\n",
    "    Vamos trabalhar esse tema posteriormente."
   ]
  },
  {
   "attachments": {},
   "cell_type": "markdown",
   "id": "1ee23e15-d2ae-4a78-8dda-5f91c5198b99",
   "metadata": {},
   "source": [
    "### Estratégia de Trabalho"
   ]
  },
  {
   "attachments": {},
   "cell_type": "markdown",
   "id": "3d6cacff-b88c-499b-b534-bd413b696b88",
   "metadata": {},
   "source": [
    "Como vimos temos alguns problemas aqui:\n",
    "\n",
    "    - Variáveis com Escalas Diferentes\n",
    "    - Variável TARGET desbalanceada\n",
    "    - Muitas variáveis, 369 para ser específico.\n",
    "\n",
    "Vamos criar 2 Cenários para este projeto:\n",
    "\n",
    "    - Cenário 1 -> Inicialmente vamos trabalhar com a variável RESP, nossa variável resposta, desbalanceada. Vamos utilizar o Métodos de redução de dimensionalidade por Importância de Variáveis e Vetorização por PCA. Aplicaremos em algoritmos diferentes e por fim, avaliaremos as métricas e definiremos o melhor modelo.\n",
    "    \n",
    "    - Cenário 2 -> Aplicamos uma técnica de Oversampling a Variável RESP com SMOTE, balanceando o Dataset. Usamos então as mesmas técnicas de redução de dimensionalidade do Cenário 1 e aplicamos aos mesmos algoritmos.\n",
    "    \n",
    "No final, comparamos qual o melhor modelo entre os cenários desenvolvidos."
   ]
  },
  {
   "attachments": {},
   "cell_type": "markdown",
   "id": "db27a997-ed3a-4f62-a407-ad445baa36de",
   "metadata": {},
   "source": [
    "#### Cenário 1 - Dataset Desbalanceado + Técnicas de Redução de Dimensionalidade"
   ]
  },
  {
   "attachments": {},
   "cell_type": "markdown",
   "id": "9e0fa265-c120-43e9-8e6a-0a251a33a737",
   "metadata": {},
   "source": [
    "    \n",
    "    Inicialmente vamos dividir os dados em Treino e Teste. Usaremos o pacote Sklearn."
   ]
  },
  {
   "cell_type": "code",
   "execution_count": 20,
   "id": "1221eb0a-456a-442a-8abb-8d976737960f",
   "metadata": {},
   "outputs": [],
   "source": [
    "# Separando os dados em Treino e Teste\n",
    "Xtreino, Xteste, Ytreino, Yteste = train_test_split(df1.iloc[:, 0:369], df1.iloc[:, -1], test_size = 0.3, random_state = 0)"
   ]
  },
  {
   "cell_type": "markdown",
   "id": "35879692-bcb3-4cfd-8c94-43469ff8bd76",
   "metadata": {},
   "source": [
    "Separado os Datasets, vamos aplicar uma normalização nos dados de treino e teste para igualar as escalas das variáveis."
   ]
  },
  {
   "cell_type": "code",
   "execution_count": 21,
   "id": "15b70194-8f03-49c9-84b9-6250b9415ddb",
   "metadata": {},
   "outputs": [],
   "source": [
    "# Modelo para Normalização dos Dados\n",
    "scaler = preprocessing.StandardScaler().fit(Xtreino)"
   ]
  },
  {
   "cell_type": "code",
   "execution_count": 24,
   "id": "662e6f2b-1c85-41dc-a560-5f85c66eefd9",
   "metadata": {},
   "outputs": [
    {
     "data": {
      "text/plain": [
       "array([[ 3.99807940e-02, -7.89237455e-01, -5.24513963e-02, ...,\n",
       "        -1.91798836e-02, -2.00718862e-02, -4.84081375e-04],\n",
       "       [ 3.99807940e-02,  1.12995969e+00, -5.24513963e-02, ...,\n",
       "        -1.91798836e-02, -2.00718862e-02,  1.84784599e+00],\n",
       "       [ 3.99807940e-02,  5.15816600e-01, -5.24513963e-02, ...,\n",
       "        -1.91798836e-02, -2.00718862e-02, -4.20753830e-01],\n",
       "       ...,\n",
       "       [ 4.01560803e-02, -7.89237455e-01, -5.24513963e-02, ...,\n",
       "        -1.91798836e-02, -2.00718862e-02, -2.66835804e-01],\n",
       "       [ 3.99807940e-02, -2.51862256e-01, -1.50190114e-02, ...,\n",
       "        -1.91798836e-02, -2.00718862e-02, -2.81950539e-01],\n",
       "       [ 3.99807940e-02,  1.66733488e+00, -5.24513963e-02, ...,\n",
       "        -1.91798836e-02, -2.00718862e-02, -2.28898997e-01]])"
      ]
     },
     "execution_count": 24,
     "metadata": {},
     "output_type": "execute_result"
    }
   ],
   "source": [
    "# Normalizando os dados de Treino\n",
    "XtreinoS = scaler.transform(Xtreino)\n",
    "XtreinoS"
   ]
  },
  {
   "cell_type": "code",
   "execution_count": 22,
   "id": "2152e1ee-fddb-4a59-ad74-7bb4d303e647",
   "metadata": {},
   "outputs": [
    {
     "data": {
      "text/plain": [
       "array([[ 3.99807940e-02, -7.89237455e-01, -5.24513963e-02, ...,\n",
       "        -1.91798836e-02, -2.00718862e-02, -1.24801003e-01],\n",
       "       [ 3.99807940e-02, -7.89237455e-01, -5.24513963e-02, ...,\n",
       "        -1.91798836e-02, -2.00718862e-02,  1.36030923e-02],\n",
       "       [ 3.99807940e-02,  8.22888143e-01, -5.24513963e-02, ...,\n",
       "        -1.91798836e-02, -2.00718862e-02, -4.84081375e-04],\n",
       "       ...,\n",
       "       [ 3.99807940e-02, -7.89237455e-01, -5.24513963e-02, ...,\n",
       "        -1.91798836e-02, -2.00718862e-02,  2.12808818e-01],\n",
       "       [ 3.99807940e-02, -1.75094370e-01, -5.24513963e-02, ...,\n",
       "        -1.91798836e-02, -2.00718862e-02,  1.76104562e-01],\n",
       "       [ 3.99807940e-02, -7.89237455e-01, -5.24513963e-02, ...,\n",
       "        -1.91798836e-02, -2.00718862e-02, -4.15936973e-01]])"
      ]
     },
     "execution_count": 22,
     "metadata": {},
     "output_type": "execute_result"
    }
   ],
   "source": [
    "# Normalizando os dados de Teste\n",
    "XtesteS = scaler.transform(Xteste)\n",
    "XtesteS"
   ]
  },
  {
   "attachments": {},
   "cell_type": "markdown",
   "id": "fd349cd7",
   "metadata": {},
   "source": [
    "##### Modelo 00 - Regressão Logística + Varáveis mais Importantes (SelectFromModel - Sklearn)"
   ]
  },
  {
   "attachments": {},
   "cell_type": "markdown",
   "id": "91ac74c3-55d4-40b8-b65a-1dc799336297",
   "metadata": {},
   "source": [
    "    Datasets com escalas equivalentes, podemos aplicar nosso primeiro método de redução de dimensionalidade. Vamos aplicar um Feature Selection, baseado em um modelo de Regressão Logística, utilizando SelectFromModel do pacote sklearn."
   ]
  },
  {
   "cell_type": "code",
   "execution_count": 25,
   "id": "d9bc9c55-2988-4be2-904d-17ab78208ec2",
   "metadata": {},
   "outputs": [],
   "source": [
    "# Modelo para Seleção de Variáveis utilizando Regressão Logística e SelectFromModel do pacote Sklearn\n",
    "LR = LogisticRegression('l2', random_state = 0, max_iter = 10000).fit(XtreinoS, Ytreino)\n",
    "model = SelectFromModel(LR, prefit=True)"
   ]
  },
  {
   "cell_type": "code",
   "execution_count": 26,
   "id": "db3874a8-93c0-4cef-bae7-1fcd50590310",
   "metadata": {},
   "outputs": [
    {
     "data": {
      "text/plain": [
       "(53214, 105)"
      ]
     },
     "execution_count": 26,
     "metadata": {},
     "output_type": "execute_result"
    }
   ],
   "source": [
    "# Aplicando Redução de Dimensionalidade aos dados de Treino\n",
    "Xtreino00 = model.transform(XtreinoS)\n",
    "Xtreino00.shape"
   ]
  },
  {
   "cell_type": "code",
   "execution_count": 28,
   "id": "ca92eba7",
   "metadata": {},
   "outputs": [
    {
     "data": {
      "text/plain": [
       "(22806, 105)"
      ]
     },
     "execution_count": 28,
     "metadata": {},
     "output_type": "execute_result"
    }
   ],
   "source": [
    "# Aplicando Redução de Dimensionalidade aos dados de Teste\n",
    "Xteste00 = model.transform(XtesteS)\n",
    "Xteste00.shape"
   ]
  },
  {
   "attachments": {},
   "cell_type": "markdown",
   "id": "31ff44bc-3688-4967-8569-3087157d04b5",
   "metadata": {},
   "source": [
    "    Chegamos a 105 variáveis importantes para a classificação de nossos Clientes. Apesar de termos ainda uma quantidade muito grande de variáveis, vamos aplicar a um modelo preditivo e calcular as métricas."
   ]
  },
  {
   "cell_type": "code",
   "execution_count": 27,
   "id": "62c3b351",
   "metadata": {},
   "outputs": [
    {
     "data": {
      "text/plain": [
       "LogisticRegression(max_iter=10000, random_state=0)"
      ]
     },
     "execution_count": 27,
     "metadata": {},
     "output_type": "execute_result"
    }
   ],
   "source": [
    "# Modelo Preditivo 00 - Regressão Logística\n",
    "modelo00 = LogisticRegression(random_state=0, max_iter=10000).fit(Xtreino00, Ytreino)\n",
    "modelo00"
   ]
  },
  {
   "attachments": {},
   "cell_type": "markdown",
   "id": "7b02f050",
   "metadata": {},
   "source": [
    "    Realizando as Previsões com o Modelo Treinado e Avaliando a performance deste modelo."
   ]
  },
  {
   "cell_type": "code",
   "execution_count": 29,
   "id": "db8b4708",
   "metadata": {},
   "outputs": [],
   "source": [
    "# Aplicando Modelo aos Dados de Teste e Calculando as Métricas\n",
    "prev00 = modelo00.predict(Xteste00)\n",
    "Acc00 = accuracy_score(Yteste, prev00)\n",
    "Prec00 = precision_score(Yteste, prev00, average='weighted')\n",
    "AUC00 = roc_auc_score(Yteste, prev00)"
   ]
  },
  {
   "cell_type": "code",
   "execution_count": 66,
   "id": "7652e01a",
   "metadata": {},
   "outputs": [
    {
     "name": "stdout",
     "output_type": "stream",
     "text": [
      "A Acurácia do Modelo é  0.9593966500043848\n",
      "A Precisão do Modelo é  0.9214315812010174\n",
      "A área sob a Curva ROC do Modelo é  0.4997259272793715\n"
     ]
    }
   ],
   "source": [
    "# Visualizando as Métricas do Modelo\n",
    "print('A Acurácia do Modelo é ', Acc00)\n",
    "print('A Precisão do Modelo é ', Prec00)\n",
    "print('A área sob a Curva ROC do Modelo é ', AUC00)"
   ]
  },
  {
   "attachments": {},
   "cell_type": "markdown",
   "id": "86498db8",
   "metadata": {},
   "source": [
    "    Vamos alocar os resultados em uma tabela para compararmos depois."
   ]
  },
  {
   "cell_type": "code",
   "execution_count": 31,
   "id": "610df1ee",
   "metadata": {},
   "outputs": [
    {
     "data": {
      "text/html": [
       "<div>\n",
       "<style scoped>\n",
       "    .dataframe tbody tr th:only-of-type {\n",
       "        vertical-align: middle;\n",
       "    }\n",
       "\n",
       "    .dataframe tbody tr th {\n",
       "        vertical-align: top;\n",
       "    }\n",
       "\n",
       "    .dataframe thead th {\n",
       "        text-align: right;\n",
       "    }\n",
       "</style>\n",
       "<table border=\"1\" class=\"dataframe\">\n",
       "  <thead>\n",
       "    <tr style=\"text-align: right;\">\n",
       "      <th></th>\n",
       "      <th>GLM00</th>\n",
       "    </tr>\n",
       "  </thead>\n",
       "  <tbody>\n",
       "    <tr>\n",
       "      <th>Acurácia</th>\n",
       "      <td>0.959397</td>\n",
       "    </tr>\n",
       "    <tr>\n",
       "      <th>Precisão</th>\n",
       "      <td>0.921432</td>\n",
       "    </tr>\n",
       "    <tr>\n",
       "      <th>ROC AUC</th>\n",
       "      <td>0.499726</td>\n",
       "    </tr>\n",
       "  </tbody>\n",
       "</table>\n",
       "</div>"
      ],
      "text/plain": [
       "             GLM00\n",
       "Acurácia  0.959397\n",
       "Precisão  0.921432\n",
       "ROC AUC   0.499726"
      ]
     },
     "execution_count": 31,
     "metadata": {},
     "output_type": "execute_result"
    }
   ],
   "source": [
    "# Colocando as Métricas em um Dataframe de Resultado\n",
    "GLM00 = pd.Series(data=[Acc00, Prec00, AUC00], index=['Acurácia', 'Precisão', 'ROC AUC'])\n",
    "Resultado = pd.DataFrame(data={'GLM00': GLM00})\n",
    "Resultado"
   ]
  },
  {
   "attachments": {},
   "cell_type": "markdown",
   "id": "73b8ca98",
   "metadata": {},
   "source": [
    "##### Modelo 01 - Regressão Logística + PCA"
   ]
  },
  {
   "cell_type": "code",
   "execution_count": 32,
   "id": "e868785c-fa87-4f07-8f89-735ea62eb072",
   "metadata": {},
   "outputs": [
    {
     "data": {
      "text/plain": [
       "(53214, 100)"
      ]
     },
     "execution_count": 32,
     "metadata": {},
     "output_type": "execute_result"
    }
   ],
   "source": [
    "# Aplicando Redução de Dimensionalidade com Vetorização para os dados de Treino\n",
    "Xtreino01 = PCA(n_components = 100).fit_transform(XtreinoS)\n",
    "Xtreino01.shape"
   ]
  },
  {
   "cell_type": "code",
   "execution_count": 33,
   "id": "c7e5dc64-8d95-4761-84cb-6d5d50bd831e",
   "metadata": {},
   "outputs": [
    {
     "data": {
      "text/plain": [
       "(22806, 100)"
      ]
     },
     "execution_count": 33,
     "metadata": {},
     "output_type": "execute_result"
    }
   ],
   "source": [
    "# Aplicando Redução de Dimensionalidade com Vetorização para os dados de Teste\n",
    "Xteste01 = PCA(n_components = 100).fit_transform(XtesteS)\n",
    "Xteste01.shape"
   ]
  },
  {
   "attachments": {},
   "cell_type": "markdown",
   "id": "115145d2-6746-457a-8c91-9f5ecfe30215",
   "metadata": {},
   "source": [
    "    Vamos trabalhar com 100 variáveis para este Modelo e avalir como performa."
   ]
  },
  {
   "cell_type": "code",
   "execution_count": 34,
   "id": "71562a24-4305-4dfd-971d-9f0699b1483c",
   "metadata": {},
   "outputs": [
    {
     "data": {
      "text/plain": [
       "LogisticRegression(max_iter=10000, random_state=0)"
      ]
     },
     "execution_count": 34,
     "metadata": {},
     "output_type": "execute_result"
    }
   ],
   "source": [
    "# Modelo Preditivo 01 - Regressão Logística\n",
    "modelo01 = LogisticRegression(random_state=0, max_iter=10000).fit(Xtreino01, Ytreino)\n",
    "modelo01"
   ]
  },
  {
   "attachments": {},
   "cell_type": "markdown",
   "id": "efd16247-e2d0-4ab1-b7a1-dfc6bd2bb5d7",
   "metadata": {},
   "source": [
    "    Realizando as Previsões com o Modelo Treinado e Avaliando a performance deste modelo."
   ]
  },
  {
   "cell_type": "code",
   "execution_count": 35,
   "id": "7e56e8d6-4025-4f61-9fb9-dc5ccc732c71",
   "metadata": {},
   "outputs": [],
   "source": [
    "# Aplicando Modelo Preditivo e Calculando as Métricas\n",
    "prev01 = modelo01.predict(Xteste01)\n",
    "Acc01 = accuracy_score(Yteste, prev01)\n",
    "Prec01 = precision_score(Yteste, prev01, average='weighted')\n",
    "AUC01 = roc_auc_score(Yteste, prev01)"
   ]
  },
  {
   "cell_type": "code",
   "execution_count": 65,
   "id": "a52d5496-79c1-4912-b9bd-abdd3bc7200d",
   "metadata": {},
   "outputs": [
    {
     "name": "stdout",
     "output_type": "stream",
     "text": [
      "A Acurácia do Modelo é  0.04016486889415066\n",
      "A Precisão do Modelo é  0.961529147963921\n",
      "A área sob a Curva ROC do Modelo é  0.5000456787867714\n"
     ]
    }
   ],
   "source": [
    "# Visualizando as Métricas do Modelo\n",
    "print('A Acurácia do Modelo é ', Acc01)\n",
    "print('A Precisão do Modelo é ', Prec01)\n",
    "print('A área sob a Curva ROC do Modelo é ', AUC01)"
   ]
  },
  {
   "cell_type": "code",
   "execution_count": 37,
   "id": "79729c8e-1332-42a8-ba3e-c21e2b110680",
   "metadata": {},
   "outputs": [
    {
     "data": {
      "text/html": [
       "<div>\n",
       "<style scoped>\n",
       "    .dataframe tbody tr th:only-of-type {\n",
       "        vertical-align: middle;\n",
       "    }\n",
       "\n",
       "    .dataframe tbody tr th {\n",
       "        vertical-align: top;\n",
       "    }\n",
       "\n",
       "    .dataframe thead th {\n",
       "        text-align: right;\n",
       "    }\n",
       "</style>\n",
       "<table border=\"1\" class=\"dataframe\">\n",
       "  <thead>\n",
       "    <tr style=\"text-align: right;\">\n",
       "      <th></th>\n",
       "      <th>GLM00</th>\n",
       "      <th>GLM01</th>\n",
       "    </tr>\n",
       "  </thead>\n",
       "  <tbody>\n",
       "    <tr>\n",
       "      <th>Acurácia</th>\n",
       "      <td>0.959397</td>\n",
       "      <td>0.040165</td>\n",
       "    </tr>\n",
       "    <tr>\n",
       "      <th>Precisão</th>\n",
       "      <td>0.921432</td>\n",
       "      <td>0.961529</td>\n",
       "    </tr>\n",
       "    <tr>\n",
       "      <th>ROC AUC</th>\n",
       "      <td>0.499726</td>\n",
       "      <td>0.500046</td>\n",
       "    </tr>\n",
       "  </tbody>\n",
       "</table>\n",
       "</div>"
      ],
      "text/plain": [
       "             GLM00     GLM01\n",
       "Acurácia  0.959397  0.040165\n",
       "Precisão  0.921432  0.961529\n",
       "ROC AUC   0.499726  0.500046"
      ]
     },
     "execution_count": 37,
     "metadata": {},
     "output_type": "execute_result"
    }
   ],
   "source": [
    "# Salvando os resultados na Tabela Resultado\n",
    "GLM01 = pd.Series(data=[Acc01, Prec01, AUC01], index=['Acurácia', 'Precisão', 'ROC AUC'])\n",
    "Resultado['GLM01'] = pd.DataFrame(GLM01)\n",
    "Resultado"
   ]
  },
  {
   "attachments": {},
   "cell_type": "markdown",
   "id": "1813d3ea-0181-47e6-99cf-737412ed9166",
   "metadata": {},
   "source": [
    "##### Modelo 02 - Stochastic Gradient Descent (SGD) + SelectFromModel"
   ]
  },
  {
   "attachments": {},
   "cell_type": "markdown",
   "id": "1d2cf8d0",
   "metadata": {},
   "source": [
    "    Para este modelo vamos utilizar o Stochastic Gradient Descent e a Seleção de Variáveis que fizemos com SelectFromModel do Sklearn."
   ]
  },
  {
   "cell_type": "code",
   "execution_count": 39,
   "id": "3f75ed0e",
   "metadata": {},
   "outputs": [
    {
     "data": {
      "text/plain": [
       "SGDClassifier()"
      ]
     },
     "execution_count": 39,
     "metadata": {},
     "output_type": "execute_result"
    }
   ],
   "source": [
    "# Modelo 02 - Stochastic Gradient Descent\n",
    "modelo02 = SGDClassifier().fit(Xtreino00, Ytreino)\n",
    "modelo02"
   ]
  },
  {
   "cell_type": "code",
   "execution_count": 40,
   "id": "82b05882",
   "metadata": {},
   "outputs": [],
   "source": [
    "# Aplicando Modelo Preditivo e Calculando as Métricas\n",
    "prev02 = modelo02.predict(Xteste00)\n",
    "Acc02 = accuracy_score(Yteste, prev02)\n",
    "Prec02 = precision_score(Yteste, prev02, average='weighted')\n",
    "AUC02 = roc_auc_score(Yteste, prev02)"
   ]
  },
  {
   "cell_type": "code",
   "execution_count": 64,
   "id": "6fb40dcb",
   "metadata": {},
   "outputs": [
    {
     "name": "stdout",
     "output_type": "stream",
     "text": [
      "A Acurácia do Modelo é  0.95970358677541\n",
      "A Precisão do Modelo é  0.9214433981705747\n",
      "A área sob a Curva ROC do Modelo é  0.49988580303307145\n"
     ]
    }
   ],
   "source": [
    "\n",
    "# Visualizando as Métricas do Modelo\n",
    "print('A Acurácia do Modelo é ', Acc02)\n",
    "print('A Precisão do Modelo é ', Prec02)\n",
    "print('A área sob a Curva ROC do Modelo é ', AUC02)"
   ]
  },
  {
   "cell_type": "code",
   "execution_count": 42,
   "id": "de76f033",
   "metadata": {},
   "outputs": [
    {
     "data": {
      "text/html": [
       "<div>\n",
       "<style scoped>\n",
       "    .dataframe tbody tr th:only-of-type {\n",
       "        vertical-align: middle;\n",
       "    }\n",
       "\n",
       "    .dataframe tbody tr th {\n",
       "        vertical-align: top;\n",
       "    }\n",
       "\n",
       "    .dataframe thead th {\n",
       "        text-align: right;\n",
       "    }\n",
       "</style>\n",
       "<table border=\"1\" class=\"dataframe\">\n",
       "  <thead>\n",
       "    <tr style=\"text-align: right;\">\n",
       "      <th></th>\n",
       "      <th>GLM00</th>\n",
       "      <th>GLM01</th>\n",
       "      <th>SGD02</th>\n",
       "    </tr>\n",
       "  </thead>\n",
       "  <tbody>\n",
       "    <tr>\n",
       "      <th>Acurácia</th>\n",
       "      <td>0.959397</td>\n",
       "      <td>0.040165</td>\n",
       "      <td>0.959704</td>\n",
       "    </tr>\n",
       "    <tr>\n",
       "      <th>Precisão</th>\n",
       "      <td>0.921432</td>\n",
       "      <td>0.961529</td>\n",
       "      <td>0.921443</td>\n",
       "    </tr>\n",
       "    <tr>\n",
       "      <th>ROC AUC</th>\n",
       "      <td>0.499726</td>\n",
       "      <td>0.500046</td>\n",
       "      <td>0.499886</td>\n",
       "    </tr>\n",
       "  </tbody>\n",
       "</table>\n",
       "</div>"
      ],
      "text/plain": [
       "             GLM00     GLM01     SGD02\n",
       "Acurácia  0.959397  0.040165  0.959704\n",
       "Precisão  0.921432  0.961529  0.921443\n",
       "ROC AUC   0.499726  0.500046  0.499886"
      ]
     },
     "execution_count": 42,
     "metadata": {},
     "output_type": "execute_result"
    }
   ],
   "source": [
    "# Salvando os resultados na Tabela Resultado\n",
    "SGD02 = pd.Series(data=[Acc02, Prec02, AUC02], index=['Acurácia', 'Precisão', 'ROC AUC'])\n",
    "Resultado['SGD02'] = SGD02\n",
    "Resultado"
   ]
  },
  {
   "attachments": {},
   "cell_type": "markdown",
   "id": "e0fb701f",
   "metadata": {},
   "source": [
    "##### Modelo 03 - Stochastic Gradient Descent (SGD) + PCA"
   ]
  },
  {
   "attachments": {},
   "cell_type": "markdown",
   "id": "7a4b1f93",
   "metadata": {},
   "source": [
    "    Neste modelo utilizaremos o algoritmo Stochastic Gradient Descent e a redução de dimensionalidade com PCA."
   ]
  },
  {
   "cell_type": "code",
   "execution_count": 43,
   "id": "e29d2718",
   "metadata": {},
   "outputs": [
    {
     "data": {
      "text/plain": [
       "SGDClassifier()"
      ]
     },
     "execution_count": 43,
     "metadata": {},
     "output_type": "execute_result"
    }
   ],
   "source": [
    "# Modelo 03 - Stochastic Gradient Descent\n",
    "modelo03 = SGDClassifier().fit(Xtreino01, Ytreino)\n",
    "modelo03"
   ]
  },
  {
   "cell_type": "code",
   "execution_count": 44,
   "id": "4ae881f8",
   "metadata": {},
   "outputs": [],
   "source": [
    "# Aplicando Modelo Preditivo e Calculando as Métricas\n",
    "prev03 = modelo03.predict(Xteste01)\n",
    "Acc03 = accuracy_score(Yteste, prev03)\n",
    "Prec03 = precision_score(Yteste, prev03, average='weighted')\n",
    "AUC03 = roc_auc_score(Yteste, prev03)"
   ]
  },
  {
   "cell_type": "code",
   "execution_count": 45,
   "id": "2541c1fc",
   "metadata": {},
   "outputs": [
    {
     "name": "stdout",
     "output_type": "stream",
     "text": [
      "A Acurácia do Modelo é  0.04016486889415066\n",
      "A Precisão do Modelo é  0.961529147963921\n",
      "A área sob a Curva ROC do Modelo é  0.5000456787867714\n"
     ]
    }
   ],
   "source": [
    "# Visualizando as Métricas do Modelo\n",
    "print('A Acurácia do Modelo é ', Acc03)\n",
    "print('A Precisão do Modelo é ', Prec03)\n",
    "print('A área sob a Curva ROC do Modelo é ', AUC03)"
   ]
  },
  {
   "cell_type": "code",
   "execution_count": 46,
   "id": "2398f950",
   "metadata": {},
   "outputs": [
    {
     "data": {
      "text/html": [
       "<div>\n",
       "<style scoped>\n",
       "    .dataframe tbody tr th:only-of-type {\n",
       "        vertical-align: middle;\n",
       "    }\n",
       "\n",
       "    .dataframe tbody tr th {\n",
       "        vertical-align: top;\n",
       "    }\n",
       "\n",
       "    .dataframe thead th {\n",
       "        text-align: right;\n",
       "    }\n",
       "</style>\n",
       "<table border=\"1\" class=\"dataframe\">\n",
       "  <thead>\n",
       "    <tr style=\"text-align: right;\">\n",
       "      <th></th>\n",
       "      <th>GLM00</th>\n",
       "      <th>GLM01</th>\n",
       "      <th>SGD02</th>\n",
       "      <th>SGD03</th>\n",
       "    </tr>\n",
       "  </thead>\n",
       "  <tbody>\n",
       "    <tr>\n",
       "      <th>Acurácia</th>\n",
       "      <td>0.959397</td>\n",
       "      <td>0.040165</td>\n",
       "      <td>0.959704</td>\n",
       "      <td>0.040165</td>\n",
       "    </tr>\n",
       "    <tr>\n",
       "      <th>Precisão</th>\n",
       "      <td>0.921432</td>\n",
       "      <td>0.961529</td>\n",
       "      <td>0.921443</td>\n",
       "      <td>0.961529</td>\n",
       "    </tr>\n",
       "    <tr>\n",
       "      <th>ROC AUC</th>\n",
       "      <td>0.499726</td>\n",
       "      <td>0.500046</td>\n",
       "      <td>0.499886</td>\n",
       "      <td>0.500046</td>\n",
       "    </tr>\n",
       "  </tbody>\n",
       "</table>\n",
       "</div>"
      ],
      "text/plain": [
       "             GLM00     GLM01     SGD02     SGD03\n",
       "Acurácia  0.959397  0.040165  0.959704  0.040165\n",
       "Precisão  0.921432  0.961529  0.921443  0.961529\n",
       "ROC AUC   0.499726  0.500046  0.499886  0.500046"
      ]
     },
     "execution_count": 46,
     "metadata": {},
     "output_type": "execute_result"
    }
   ],
   "source": [
    "# Salvando os resultados na Tabela Resultado\n",
    "SGD03 = pd.Series(data=[Acc03, Prec03, AUC03], index=['Acurácia', 'Precisão', 'ROC AUC'])\n",
    "Resultado['SGD03'] = SGD03\n",
    "Resultado"
   ]
  },
  {
   "attachments": {},
   "cell_type": "markdown",
   "id": "d10daadf",
   "metadata": {},
   "source": [
    "#### Cenário 2 - Balanceamento do Dataset + Técnicas de Redução de Dimensionalidade"
   ]
  },
  {
   "attachments": {},
   "cell_type": "markdown",
   "id": "259823d1",
   "metadata": {},
   "source": [
    "    Para este cenário, vamos repetir os algoritmos utilizados, porém vamos aplicar uma técnica para balancear a variável alvo utilizando dados sintéticos, denominada Oversampling."
   ]
  },
  {
   "cell_type": "code",
   "execution_count": 47,
   "id": "dba821e7",
   "metadata": {},
   "outputs": [],
   "source": [
    "# Criando um modelo de Oversampling\n",
    "sm = SMOTE(random_state=0)"
   ]
  },
  {
   "cell_type": "code",
   "execution_count": 48,
   "id": "d9a0e02e",
   "metadata": {},
   "outputs": [
    {
     "data": {
      "text/plain": [
       "0    51120\n",
       "1    51120\n",
       "Name: RESP, dtype: int64"
      ]
     },
     "execution_count": 48,
     "metadata": {},
     "output_type": "execute_result"
    }
   ],
   "source": [
    "# Balanceando os dados de Treino\n",
    "XtreinoB, YtreinoB = sm.fit_resample(XtreinoS, Ytreino)\n",
    "YtreinoB.value_counts()"
   ]
  },
  {
   "attachments": {},
   "cell_type": "markdown",
   "id": "29d51f3e",
   "metadata": {},
   "source": [
    "##### Modelo 04 - Regressão Logística + SelectFromModel - Sklearn"
   ]
  },
  {
   "attachments": {},
   "cell_type": "markdown",
   "id": "a4d1d108",
   "metadata": {},
   "source": [
    "    Agora vamos repetir os algoritmos e técnicas utilizadas anteriormente, porém com nosso dataset balanceado.    "
   ]
  },
  {
   "cell_type": "code",
   "execution_count": 49,
   "id": "bd71ea94",
   "metadata": {},
   "outputs": [],
   "source": [
    "# Modelo de Redução de Dimensionalidade com SelectFromModel()\n",
    "LROS = LogisticRegression('l2', random_state = 0, max_iter = 10000).fit(XtreinoB, YtreinoB)\n",
    "modelOS= SelectFromModel(LR, prefit=True)"
   ]
  },
  {
   "cell_type": "code",
   "execution_count": 50,
   "id": "40cfe0b9",
   "metadata": {},
   "outputs": [],
   "source": [
    "\n",
    "# Aplicando Redução de Dimensionalidade aos Datasets de Treino e Teste\n",
    "XtreinoB00 = modelOS.transform(XtreinoB)\n",
    "XtesteB00 = modelOS.transform(XtesteS)"
   ]
  },
  {
   "cell_type": "code",
   "execution_count": 51,
   "id": "5c484028",
   "metadata": {},
   "outputs": [],
   "source": [
    "# Modelo 04 - Regressão Logística\n",
    "modelo04 = LogisticRegression(random_state=0, max_iter=10000).fit(XtreinoB00, YtreinoB)"
   ]
  },
  {
   "cell_type": "code",
   "execution_count": 52,
   "id": "ac976568",
   "metadata": {},
   "outputs": [],
   "source": [
    "\n",
    "# Aplicando Modelo Preditivo e Calculando as Métricas\n",
    "prev04 = modelo04.predict(XtesteB00)\n",
    "Acc04 = accuracy_score(Yteste, prev04)\n",
    "Prec04 = precision_score(Yteste, prev04, average='weighted')\n",
    "AUC04 = roc_auc_score(Yteste, prev04)"
   ]
  },
  {
   "cell_type": "code",
   "execution_count": 53,
   "id": "f3325d98",
   "metadata": {},
   "outputs": [
    {
     "name": "stdout",
     "output_type": "stream",
     "text": [
      "A Acurácia do Modelo é  0.6973164956590371\n",
      "A Precisão do Modelo é  0.9494225971764026\n",
      "A área sob a Curva ROC do Modelo é  0.7222963655678303\n"
     ]
    }
   ],
   "source": [
    "\n",
    "# Visualizando as Métricas do Modelo\n",
    "print('A Acurácia do Modelo é ', Acc04)\n",
    "print('A Precisão do Modelo é ', Prec04)\n",
    "print('A área sob a Curva ROC do Modelo é ', AUC04)"
   ]
  },
  {
   "cell_type": "code",
   "execution_count": 54,
   "id": "37eeb1a4",
   "metadata": {},
   "outputs": [
    {
     "data": {
      "text/html": [
       "<div>\n",
       "<style scoped>\n",
       "    .dataframe tbody tr th:only-of-type {\n",
       "        vertical-align: middle;\n",
       "    }\n",
       "\n",
       "    .dataframe tbody tr th {\n",
       "        vertical-align: top;\n",
       "    }\n",
       "\n",
       "    .dataframe thead th {\n",
       "        text-align: right;\n",
       "    }\n",
       "</style>\n",
       "<table border=\"1\" class=\"dataframe\">\n",
       "  <thead>\n",
       "    <tr style=\"text-align: right;\">\n",
       "      <th></th>\n",
       "      <th>GLM00</th>\n",
       "      <th>GLM01</th>\n",
       "      <th>SGD02</th>\n",
       "      <th>SGD03</th>\n",
       "      <th>GLMB04</th>\n",
       "    </tr>\n",
       "  </thead>\n",
       "  <tbody>\n",
       "    <tr>\n",
       "      <th>Acurácia</th>\n",
       "      <td>0.959397</td>\n",
       "      <td>0.040165</td>\n",
       "      <td>0.959704</td>\n",
       "      <td>0.040165</td>\n",
       "      <td>0.697316</td>\n",
       "    </tr>\n",
       "    <tr>\n",
       "      <th>Precisão</th>\n",
       "      <td>0.921432</td>\n",
       "      <td>0.961529</td>\n",
       "      <td>0.921443</td>\n",
       "      <td>0.961529</td>\n",
       "      <td>0.949423</td>\n",
       "    </tr>\n",
       "    <tr>\n",
       "      <th>ROC AUC</th>\n",
       "      <td>0.499726</td>\n",
       "      <td>0.500046</td>\n",
       "      <td>0.499886</td>\n",
       "      <td>0.500046</td>\n",
       "      <td>0.722296</td>\n",
       "    </tr>\n",
       "  </tbody>\n",
       "</table>\n",
       "</div>"
      ],
      "text/plain": [
       "             GLM00     GLM01     SGD02     SGD03    GLMB04\n",
       "Acurácia  0.959397  0.040165  0.959704  0.040165  0.697316\n",
       "Precisão  0.921432  0.961529  0.921443  0.961529  0.949423\n",
       "ROC AUC   0.499726  0.500046  0.499886  0.500046  0.722296"
      ]
     },
     "execution_count": 54,
     "metadata": {},
     "output_type": "execute_result"
    }
   ],
   "source": [
    "# Salvando os resultados na Tabela Resultado\n",
    "GLMB04 = pd.Series(data=[Acc04, Prec04, AUC04], index=['Acurácia', 'Precisão', 'ROC AUC'])\n",
    "Resultado['GLMB04'] = GLMB04\n",
    "Resultado"
   ]
  },
  {
   "attachments": {},
   "cell_type": "markdown",
   "id": "0f351f6d",
   "metadata": {},
   "source": [
    "##### Modelo 05 - Regressão Logística + PCA"
   ]
  },
  {
   "cell_type": "code",
   "execution_count": 55,
   "id": "4460eaf1",
   "metadata": {},
   "outputs": [],
   "source": [
    "# Modelo de Redução de Dimensionalidade com PCA\n",
    "PCA01 = PCA(n_components = 100)"
   ]
  },
  {
   "cell_type": "code",
   "execution_count": 56,
   "id": "525a5ac6",
   "metadata": {},
   "outputs": [],
   "source": [
    "\n",
    "# Aplicando Redução de Dimensionalidade aos dados de Treino e Teste\n",
    "XtreinoB01 = PCA01.fit_transform(XtreinoB)\n",
    "XtesteB01 = PCA01.fit_transform(XtesteS)"
   ]
  },
  {
   "cell_type": "code",
   "execution_count": 57,
   "id": "566bf17a",
   "metadata": {},
   "outputs": [],
   "source": [
    "# Modelo 05 -Regressão Logística\n",
    "modelo05 = LogisticRegression(random_state=0, max_iter=10000).fit(XtreinoB01, YtreinoB)"
   ]
  },
  {
   "cell_type": "code",
   "execution_count": 58,
   "id": "c82c5180",
   "metadata": {},
   "outputs": [],
   "source": [
    "\n",
    "# Aplicando Modelo Preditivo e Calculando as Métricas\n",
    "prev05 = modelo05.predict(XtesteB01)\n",
    "Acc05 = accuracy_score(Yteste, prev05)\n",
    "Prec05 = precision_score(Yteste, prev05, average='weighted')\n",
    "AUC05 = roc_auc_score(Yteste, prev05)"
   ]
  },
  {
   "cell_type": "code",
   "execution_count": 59,
   "id": "09082099",
   "metadata": {},
   "outputs": [
    {
     "name": "stdout",
     "output_type": "stream",
     "text": [
      "A Acurácia do Modelo é  0.04012102078400421\n",
      "A Precisão do Modelo é  0.9615290775267082\n",
      "A área sob a Curva ROC do Modelo é  0.5000228393933857\n"
     ]
    }
   ],
   "source": [
    "\n",
    "# Visualizando as Métricas do Modelo\n",
    "print('A Acurácia do Modelo é ', Acc05)\n",
    "print('A Precisão do Modelo é ', Prec05)\n",
    "print('A área sob a Curva ROC do Modelo é ', AUC05)"
   ]
  },
  {
   "cell_type": "code",
   "execution_count": 60,
   "id": "34a1bfd0",
   "metadata": {},
   "outputs": [
    {
     "data": {
      "text/html": [
       "<div>\n",
       "<style scoped>\n",
       "    .dataframe tbody tr th:only-of-type {\n",
       "        vertical-align: middle;\n",
       "    }\n",
       "\n",
       "    .dataframe tbody tr th {\n",
       "        vertical-align: top;\n",
       "    }\n",
       "\n",
       "    .dataframe thead th {\n",
       "        text-align: right;\n",
       "    }\n",
       "</style>\n",
       "<table border=\"1\" class=\"dataframe\">\n",
       "  <thead>\n",
       "    <tr style=\"text-align: right;\">\n",
       "      <th></th>\n",
       "      <th>GLM00</th>\n",
       "      <th>GLM01</th>\n",
       "      <th>SGD02</th>\n",
       "      <th>SGD03</th>\n",
       "      <th>GLMB04</th>\n",
       "      <th>GLMB05</th>\n",
       "    </tr>\n",
       "  </thead>\n",
       "  <tbody>\n",
       "    <tr>\n",
       "      <th>Acurácia</th>\n",
       "      <td>0.959397</td>\n",
       "      <td>0.040165</td>\n",
       "      <td>0.959704</td>\n",
       "      <td>0.040165</td>\n",
       "      <td>0.697316</td>\n",
       "      <td>0.040121</td>\n",
       "    </tr>\n",
       "    <tr>\n",
       "      <th>Precisão</th>\n",
       "      <td>0.921432</td>\n",
       "      <td>0.961529</td>\n",
       "      <td>0.921443</td>\n",
       "      <td>0.961529</td>\n",
       "      <td>0.949423</td>\n",
       "      <td>0.961529</td>\n",
       "    </tr>\n",
       "    <tr>\n",
       "      <th>ROC AUC</th>\n",
       "      <td>0.499726</td>\n",
       "      <td>0.500046</td>\n",
       "      <td>0.499886</td>\n",
       "      <td>0.500046</td>\n",
       "      <td>0.722296</td>\n",
       "      <td>0.500023</td>\n",
       "    </tr>\n",
       "  </tbody>\n",
       "</table>\n",
       "</div>"
      ],
      "text/plain": [
       "             GLM00     GLM01     SGD02     SGD03    GLMB04    GLMB05\n",
       "Acurácia  0.959397  0.040165  0.959704  0.040165  0.697316  0.040121\n",
       "Precisão  0.921432  0.961529  0.921443  0.961529  0.949423  0.961529\n",
       "ROC AUC   0.499726  0.500046  0.499886  0.500046  0.722296  0.500023"
      ]
     },
     "execution_count": 60,
     "metadata": {},
     "output_type": "execute_result"
    }
   ],
   "source": [
    "# Salvando os resultados na Tabela Resultado\n",
    "GLMB05 = pd.Series(data=[Acc05, Prec05, AUC05], index=['Acurácia', 'Precisão', 'ROC AUC'])\n",
    "Resultado['GLMB05'] = GLMB05\n",
    "Resultado"
   ]
  },
  {
   "attachments": {},
   "cell_type": "markdown",
   "id": "538003f0",
   "metadata": {},
   "source": [
    "##### Modelo 06 - Stochastic Gradient Descent (SGD) + SelectFromModel - Sklearn"
   ]
  },
  {
   "cell_type": "code",
   "execution_count": 61,
   "id": "326ea5f7",
   "metadata": {},
   "outputs": [],
   "source": [
    "# Modelo 06 - Stochastic Gradient Descent\n",
    "modelo06 = SGDClassifier().fit(XtreinoB00, YtreinoB)"
   ]
  },
  {
   "cell_type": "code",
   "execution_count": 62,
   "id": "c0314fd2",
   "metadata": {},
   "outputs": [],
   "source": [
    "\n",
    "# Aplicando Modelo Preditivo e Calculando as Métricas\n",
    "prev06 = modelo06.predict(XtesteB00)\n",
    "Acc06 = accuracy_score(Yteste, prev06)\n",
    "Prec06 = precision_score(Yteste, prev06, average='weighted')\n",
    "AUC06 = roc_auc_score(Yteste, prev06)"
   ]
  },
  {
   "cell_type": "code",
   "execution_count": 63,
   "id": "15249e98",
   "metadata": {},
   "outputs": [
    {
     "name": "stdout",
     "output_type": "stream",
     "text": [
      "A Acurácia do Modelo é  0.7280540208717005\n",
      "A Precisão do Modelo é  0.9489354547371738\n",
      "A área sob a Curva ROC do Modelo é  0.7257258229278323\n"
     ]
    }
   ],
   "source": [
    "\n",
    "# Visualiza as Metricas do Modelo\n",
    "print('A Acurácia do Modelo é ', Acc06)\n",
    "print('A Precisão do Modelo é ', Prec06)\n",
    "print('A área sob a Curva ROC do Modelo é ', AUC06)"
   ]
  },
  {
   "cell_type": "code",
   "execution_count": 67,
   "id": "120c381d",
   "metadata": {},
   "outputs": [
    {
     "data": {
      "text/html": [
       "<div>\n",
       "<style scoped>\n",
       "    .dataframe tbody tr th:only-of-type {\n",
       "        vertical-align: middle;\n",
       "    }\n",
       "\n",
       "    .dataframe tbody tr th {\n",
       "        vertical-align: top;\n",
       "    }\n",
       "\n",
       "    .dataframe thead th {\n",
       "        text-align: right;\n",
       "    }\n",
       "</style>\n",
       "<table border=\"1\" class=\"dataframe\">\n",
       "  <thead>\n",
       "    <tr style=\"text-align: right;\">\n",
       "      <th></th>\n",
       "      <th>GLM00</th>\n",
       "      <th>GLM01</th>\n",
       "      <th>SGD02</th>\n",
       "      <th>SGD03</th>\n",
       "      <th>GLMB04</th>\n",
       "      <th>GLMB05</th>\n",
       "      <th>SGDB06</th>\n",
       "    </tr>\n",
       "  </thead>\n",
       "  <tbody>\n",
       "    <tr>\n",
       "      <th>Acurácia</th>\n",
       "      <td>0.959397</td>\n",
       "      <td>0.040165</td>\n",
       "      <td>0.959704</td>\n",
       "      <td>0.040165</td>\n",
       "      <td>0.697316</td>\n",
       "      <td>0.040121</td>\n",
       "      <td>0.728054</td>\n",
       "    </tr>\n",
       "    <tr>\n",
       "      <th>Precisão</th>\n",
       "      <td>0.921432</td>\n",
       "      <td>0.961529</td>\n",
       "      <td>0.921443</td>\n",
       "      <td>0.961529</td>\n",
       "      <td>0.949423</td>\n",
       "      <td>0.961529</td>\n",
       "      <td>0.948935</td>\n",
       "    </tr>\n",
       "    <tr>\n",
       "      <th>ROC AUC</th>\n",
       "      <td>0.499726</td>\n",
       "      <td>0.500046</td>\n",
       "      <td>0.499886</td>\n",
       "      <td>0.500046</td>\n",
       "      <td>0.722296</td>\n",
       "      <td>0.500023</td>\n",
       "      <td>0.725726</td>\n",
       "    </tr>\n",
       "  </tbody>\n",
       "</table>\n",
       "</div>"
      ],
      "text/plain": [
       "             GLM00     GLM01     SGD02     SGD03    GLMB04    GLMB05    SGDB06\n",
       "Acurácia  0.959397  0.040165  0.959704  0.040165  0.697316  0.040121  0.728054\n",
       "Precisão  0.921432  0.961529  0.921443  0.961529  0.949423  0.961529  0.948935\n",
       "ROC AUC   0.499726  0.500046  0.499886  0.500046  0.722296  0.500023  0.725726"
      ]
     },
     "execution_count": 67,
     "metadata": {},
     "output_type": "execute_result"
    }
   ],
   "source": [
    "# Salvando os resultados na Tabela Resultado\n",
    "SGDB06 = pd.Series(data=[Acc06, Prec06, AUC06], index=['Acurácia', 'Precisão', 'ROC AUC'])\n",
    "Resultado['SGDB06'] = SGDB06\n",
    "Resultado"
   ]
  },
  {
   "attachments": {},
   "cell_type": "markdown",
   "id": "139c66ec",
   "metadata": {},
   "source": [
    "##### Modelo 07 - Stochastic Gradient Descent (SGD) + PCA"
   ]
  },
  {
   "cell_type": "code",
   "execution_count": 68,
   "id": "5cf53853",
   "metadata": {},
   "outputs": [],
   "source": [
    "# Modelo 08 - Stochastic Gradient Descent\n",
    "modelo07 = SGDClassifier().fit(XtreinoB01, YtreinoB)"
   ]
  },
  {
   "cell_type": "code",
   "execution_count": 69,
   "id": "c1d9e6ec",
   "metadata": {},
   "outputs": [],
   "source": [
    "\n",
    "# Aplicando Modelo Preditivo e Calculando as Métricas\n",
    "prev07 = modelo07.predict(XtesteB01)\n",
    "Acc07 = accuracy_score(Yteste, prev07)\n",
    "Prec07 = precision_score(Yteste, prev07, average='weighted')\n",
    "AUC07 = roc_auc_score(Yteste, prev07)"
   ]
  },
  {
   "cell_type": "code",
   "execution_count": 70,
   "id": "4321643b",
   "metadata": {},
   "outputs": [
    {
     "name": "stdout",
     "output_type": "stream",
     "text": [
      "A Acurácia do Modelo é  0.9598351311058494\n",
      "A Precisão do Modelo é  0.9214484603652541\n",
      "A área sob a Curva ROC do Modelo é  0.4999543212132286\n"
     ]
    }
   ],
   "source": [
    "\n",
    "# Visualizando as Métricas do Modelo\n",
    "print('A Acurácia do Modelo é ', Acc07)\n",
    "print('A Precisão do Modelo é ', Prec07)\n",
    "print('A área sob a Curva ROC do Modelo é ', AUC07)"
   ]
  },
  {
   "cell_type": "code",
   "execution_count": 71,
   "id": "ee88df1a",
   "metadata": {},
   "outputs": [
    {
     "data": {
      "text/html": [
       "<div>\n",
       "<style scoped>\n",
       "    .dataframe tbody tr th:only-of-type {\n",
       "        vertical-align: middle;\n",
       "    }\n",
       "\n",
       "    .dataframe tbody tr th {\n",
       "        vertical-align: top;\n",
       "    }\n",
       "\n",
       "    .dataframe thead th {\n",
       "        text-align: right;\n",
       "    }\n",
       "</style>\n",
       "<table border=\"1\" class=\"dataframe\">\n",
       "  <thead>\n",
       "    <tr style=\"text-align: right;\">\n",
       "      <th></th>\n",
       "      <th>GLM00</th>\n",
       "      <th>GLM01</th>\n",
       "      <th>SGD02</th>\n",
       "      <th>SGD03</th>\n",
       "      <th>GLMB04</th>\n",
       "      <th>GLMB05</th>\n",
       "      <th>SGDB06</th>\n",
       "      <th>SGDB07</th>\n",
       "    </tr>\n",
       "  </thead>\n",
       "  <tbody>\n",
       "    <tr>\n",
       "      <th>Acurácia</th>\n",
       "      <td>0.959397</td>\n",
       "      <td>0.040165</td>\n",
       "      <td>0.959704</td>\n",
       "      <td>0.040165</td>\n",
       "      <td>0.697316</td>\n",
       "      <td>0.040121</td>\n",
       "      <td>0.728054</td>\n",
       "      <td>0.959835</td>\n",
       "    </tr>\n",
       "    <tr>\n",
       "      <th>Precisão</th>\n",
       "      <td>0.921432</td>\n",
       "      <td>0.961529</td>\n",
       "      <td>0.921443</td>\n",
       "      <td>0.961529</td>\n",
       "      <td>0.949423</td>\n",
       "      <td>0.961529</td>\n",
       "      <td>0.948935</td>\n",
       "      <td>0.921448</td>\n",
       "    </tr>\n",
       "    <tr>\n",
       "      <th>ROC AUC</th>\n",
       "      <td>0.499726</td>\n",
       "      <td>0.500046</td>\n",
       "      <td>0.499886</td>\n",
       "      <td>0.500046</td>\n",
       "      <td>0.722296</td>\n",
       "      <td>0.500023</td>\n",
       "      <td>0.725726</td>\n",
       "      <td>0.499954</td>\n",
       "    </tr>\n",
       "  </tbody>\n",
       "</table>\n",
       "</div>"
      ],
      "text/plain": [
       "             GLM00     GLM01     SGD02     SGD03    GLMB04    GLMB05  \\\n",
       "Acurácia  0.959397  0.040165  0.959704  0.040165  0.697316  0.040121   \n",
       "Precisão  0.921432  0.961529  0.921443  0.961529  0.949423  0.961529   \n",
       "ROC AUC   0.499726  0.500046  0.499886  0.500046  0.722296  0.500023   \n",
       "\n",
       "            SGDB06    SGDB07  \n",
       "Acurácia  0.728054  0.959835  \n",
       "Precisão  0.948935  0.921448  \n",
       "ROC AUC   0.725726  0.499954  "
      ]
     },
     "execution_count": 71,
     "metadata": {},
     "output_type": "execute_result"
    }
   ],
   "source": [
    "# Salvando os resultados na Tabela Resultados\n",
    "SGDB07 = pd.Series(data=[Acc07, Prec07, AUC07], index=['Acurácia', 'Precisão', 'ROC AUC'])\n",
    "Resultado['SGDB07'] = SGDB07\n",
    "Resultado"
   ]
  },
  {
   "attachments": {},
   "cell_type": "markdown",
   "id": "96b1ebc8",
   "metadata": {},
   "source": [
    "### Conclusão e Entrega das Previsões"
   ]
  },
  {
   "attachments": {},
   "cell_type": "markdown",
   "id": "913f56ee",
   "metadata": {},
   "source": [
    "    Analisando a tabela de resultado dos modelos criados, percebemos que o Modelo de SGD, utilizando o dataset balanceado com a técnica de oversampling e aplicando a técnica de redução de dimensionalidade do Sklearn (SelectFromModel), obteve-se a performance mais equilibrada entre as métricas. Sendo Acurácia de 72,8%, Precisão de 94,89% e ROC AUC de 72,57%."
   ]
  },
  {
   "cell_type": "code",
   "execution_count": 72,
   "id": "66bcd3ed",
   "metadata": {},
   "outputs": [
    {
     "data": {
      "text/plain": [
       "Acurácia    0.728054\n",
       "Precisão    0.948935\n",
       "ROC AUC     0.725726\n",
       "Name: SGDB06, dtype: float64"
      ]
     },
     "execution_count": 72,
     "metadata": {},
     "output_type": "execute_result"
    }
   ],
   "source": [
    "# Modelo de Performance mais Equilibrada\n",
    "Resultado['SGDB06']"
   ]
  },
  {
   "cell_type": "code",
   "execution_count": 73,
   "id": "f2c0d28f",
   "metadata": {},
   "outputs": [
    {
     "data": {
      "text/plain": [
       "(75818, 370)"
      ]
     },
     "execution_count": 73,
     "metadata": {},
     "output_type": "execute_result"
    }
   ],
   "source": [
    "# Carregando Novos Dados\n",
    "ND = pd.read_csv('Dados/test.csv')\n",
    "ND.shape "
   ]
  },
  {
   "cell_type": "code",
   "execution_count": 77,
   "id": "a8d6c0f5",
   "metadata": {},
   "outputs": [
    {
     "data": {
      "text/html": [
       "<div>\n",
       "<style scoped>\n",
       "    .dataframe tbody tr th:only-of-type {\n",
       "        vertical-align: middle;\n",
       "    }\n",
       "\n",
       "    .dataframe tbody tr th {\n",
       "        vertical-align: top;\n",
       "    }\n",
       "\n",
       "    .dataframe thead th {\n",
       "        text-align: right;\n",
       "    }\n",
       "</style>\n",
       "<table border=\"1\" class=\"dataframe\">\n",
       "  <thead>\n",
       "    <tr style=\"text-align: right;\">\n",
       "      <th></th>\n",
       "      <th>Var1</th>\n",
       "      <th>Var2</th>\n",
       "      <th>Var3</th>\n",
       "      <th>Var4</th>\n",
       "      <th>Var5</th>\n",
       "      <th>Var6</th>\n",
       "      <th>Var7</th>\n",
       "      <th>Var8</th>\n",
       "      <th>Var9</th>\n",
       "      <th>Var10</th>\n",
       "      <th>...</th>\n",
       "      <th>Var360</th>\n",
       "      <th>Var361</th>\n",
       "      <th>Var362</th>\n",
       "      <th>Var363</th>\n",
       "      <th>Var364</th>\n",
       "      <th>Var365</th>\n",
       "      <th>Var366</th>\n",
       "      <th>Var367</th>\n",
       "      <th>Var368</th>\n",
       "      <th>Var369</th>\n",
       "    </tr>\n",
       "  </thead>\n",
       "  <tbody>\n",
       "    <tr>\n",
       "      <th>0</th>\n",
       "      <td>2</td>\n",
       "      <td>32</td>\n",
       "      <td>0.0</td>\n",
       "      <td>0.0</td>\n",
       "      <td>0.0</td>\n",
       "      <td>0.0</td>\n",
       "      <td>0.0</td>\n",
       "      <td>0.0</td>\n",
       "      <td>0.0</td>\n",
       "      <td>0.0</td>\n",
       "      <td>...</td>\n",
       "      <td>0.0</td>\n",
       "      <td>0.0</td>\n",
       "      <td>0.0</td>\n",
       "      <td>0.0</td>\n",
       "      <td>0.0</td>\n",
       "      <td>0.0</td>\n",
       "      <td>0.0</td>\n",
       "      <td>0.0</td>\n",
       "      <td>0.0</td>\n",
       "      <td>40532.100000</td>\n",
       "    </tr>\n",
       "    <tr>\n",
       "      <th>1</th>\n",
       "      <td>2</td>\n",
       "      <td>35</td>\n",
       "      <td>0.0</td>\n",
       "      <td>0.0</td>\n",
       "      <td>0.0</td>\n",
       "      <td>0.0</td>\n",
       "      <td>0.0</td>\n",
       "      <td>0.0</td>\n",
       "      <td>0.0</td>\n",
       "      <td>0.0</td>\n",
       "      <td>...</td>\n",
       "      <td>0.0</td>\n",
       "      <td>0.0</td>\n",
       "      <td>0.0</td>\n",
       "      <td>0.0</td>\n",
       "      <td>0.0</td>\n",
       "      <td>0.0</td>\n",
       "      <td>0.0</td>\n",
       "      <td>0.0</td>\n",
       "      <td>0.0</td>\n",
       "      <td>45486.720000</td>\n",
       "    </tr>\n",
       "    <tr>\n",
       "      <th>2</th>\n",
       "      <td>2</td>\n",
       "      <td>23</td>\n",
       "      <td>0.0</td>\n",
       "      <td>0.0</td>\n",
       "      <td>0.0</td>\n",
       "      <td>0.0</td>\n",
       "      <td>0.0</td>\n",
       "      <td>0.0</td>\n",
       "      <td>0.0</td>\n",
       "      <td>0.0</td>\n",
       "      <td>...</td>\n",
       "      <td>0.0</td>\n",
       "      <td>0.0</td>\n",
       "      <td>0.0</td>\n",
       "      <td>0.0</td>\n",
       "      <td>0.0</td>\n",
       "      <td>0.0</td>\n",
       "      <td>0.0</td>\n",
       "      <td>0.0</td>\n",
       "      <td>0.0</td>\n",
       "      <td>46993.950000</td>\n",
       "    </tr>\n",
       "    <tr>\n",
       "      <th>3</th>\n",
       "      <td>2</td>\n",
       "      <td>24</td>\n",
       "      <td>0.0</td>\n",
       "      <td>0.0</td>\n",
       "      <td>0.0</td>\n",
       "      <td>0.0</td>\n",
       "      <td>0.0</td>\n",
       "      <td>0.0</td>\n",
       "      <td>0.0</td>\n",
       "      <td>0.0</td>\n",
       "      <td>...</td>\n",
       "      <td>0.0</td>\n",
       "      <td>0.0</td>\n",
       "      <td>0.0</td>\n",
       "      <td>0.0</td>\n",
       "      <td>0.0</td>\n",
       "      <td>0.0</td>\n",
       "      <td>0.0</td>\n",
       "      <td>0.0</td>\n",
       "      <td>0.0</td>\n",
       "      <td>187898.610000</td>\n",
       "    </tr>\n",
       "    <tr>\n",
       "      <th>4</th>\n",
       "      <td>2</td>\n",
       "      <td>23</td>\n",
       "      <td>0.0</td>\n",
       "      <td>0.0</td>\n",
       "      <td>0.0</td>\n",
       "      <td>0.0</td>\n",
       "      <td>0.0</td>\n",
       "      <td>0.0</td>\n",
       "      <td>0.0</td>\n",
       "      <td>0.0</td>\n",
       "      <td>...</td>\n",
       "      <td>0.0</td>\n",
       "      <td>0.0</td>\n",
       "      <td>0.0</td>\n",
       "      <td>0.0</td>\n",
       "      <td>0.0</td>\n",
       "      <td>0.0</td>\n",
       "      <td>0.0</td>\n",
       "      <td>0.0</td>\n",
       "      <td>0.0</td>\n",
       "      <td>73649.730000</td>\n",
       "    </tr>\n",
       "    <tr>\n",
       "      <th>...</th>\n",
       "      <td>...</td>\n",
       "      <td>...</td>\n",
       "      <td>...</td>\n",
       "      <td>...</td>\n",
       "      <td>...</td>\n",
       "      <td>...</td>\n",
       "      <td>...</td>\n",
       "      <td>...</td>\n",
       "      <td>...</td>\n",
       "      <td>...</td>\n",
       "      <td>...</td>\n",
       "      <td>...</td>\n",
       "      <td>...</td>\n",
       "      <td>...</td>\n",
       "      <td>...</td>\n",
       "      <td>...</td>\n",
       "      <td>...</td>\n",
       "      <td>...</td>\n",
       "      <td>...</td>\n",
       "      <td>...</td>\n",
       "      <td>...</td>\n",
       "    </tr>\n",
       "    <tr>\n",
       "      <th>75813</th>\n",
       "      <td>2</td>\n",
       "      <td>23</td>\n",
       "      <td>0.0</td>\n",
       "      <td>0.0</td>\n",
       "      <td>0.0</td>\n",
       "      <td>0.0</td>\n",
       "      <td>0.0</td>\n",
       "      <td>0.0</td>\n",
       "      <td>0.0</td>\n",
       "      <td>0.0</td>\n",
       "      <td>...</td>\n",
       "      <td>0.0</td>\n",
       "      <td>0.0</td>\n",
       "      <td>0.0</td>\n",
       "      <td>0.0</td>\n",
       "      <td>0.0</td>\n",
       "      <td>0.0</td>\n",
       "      <td>0.0</td>\n",
       "      <td>0.0</td>\n",
       "      <td>0.0</td>\n",
       "      <td>40243.200000</td>\n",
       "    </tr>\n",
       "    <tr>\n",
       "      <th>75814</th>\n",
       "      <td>2</td>\n",
       "      <td>26</td>\n",
       "      <td>0.0</td>\n",
       "      <td>0.0</td>\n",
       "      <td>0.0</td>\n",
       "      <td>0.0</td>\n",
       "      <td>0.0</td>\n",
       "      <td>0.0</td>\n",
       "      <td>0.0</td>\n",
       "      <td>0.0</td>\n",
       "      <td>...</td>\n",
       "      <td>0.0</td>\n",
       "      <td>0.0</td>\n",
       "      <td>0.0</td>\n",
       "      <td>0.0</td>\n",
       "      <td>0.0</td>\n",
       "      <td>0.0</td>\n",
       "      <td>0.0</td>\n",
       "      <td>0.0</td>\n",
       "      <td>0.0</td>\n",
       "      <td>146961.300000</td>\n",
       "    </tr>\n",
       "    <tr>\n",
       "      <th>75815</th>\n",
       "      <td>2</td>\n",
       "      <td>24</td>\n",
       "      <td>0.0</td>\n",
       "      <td>0.0</td>\n",
       "      <td>0.0</td>\n",
       "      <td>0.0</td>\n",
       "      <td>0.0</td>\n",
       "      <td>0.0</td>\n",
       "      <td>0.0</td>\n",
       "      <td>0.0</td>\n",
       "      <td>...</td>\n",
       "      <td>0.0</td>\n",
       "      <td>0.0</td>\n",
       "      <td>0.0</td>\n",
       "      <td>0.0</td>\n",
       "      <td>0.0</td>\n",
       "      <td>0.0</td>\n",
       "      <td>0.0</td>\n",
       "      <td>0.0</td>\n",
       "      <td>0.0</td>\n",
       "      <td>167299.770000</td>\n",
       "    </tr>\n",
       "    <tr>\n",
       "      <th>75816</th>\n",
       "      <td>2</td>\n",
       "      <td>40</td>\n",
       "      <td>0.0</td>\n",
       "      <td>0.0</td>\n",
       "      <td>0.0</td>\n",
       "      <td>0.0</td>\n",
       "      <td>0.0</td>\n",
       "      <td>0.0</td>\n",
       "      <td>0.0</td>\n",
       "      <td>0.0</td>\n",
       "      <td>...</td>\n",
       "      <td>0.0</td>\n",
       "      <td>0.0</td>\n",
       "      <td>0.0</td>\n",
       "      <td>0.0</td>\n",
       "      <td>0.0</td>\n",
       "      <td>0.0</td>\n",
       "      <td>0.0</td>\n",
       "      <td>0.0</td>\n",
       "      <td>0.0</td>\n",
       "      <td>117310.979016</td>\n",
       "    </tr>\n",
       "    <tr>\n",
       "      <th>75817</th>\n",
       "      <td>2</td>\n",
       "      <td>23</td>\n",
       "      <td>0.0</td>\n",
       "      <td>0.0</td>\n",
       "      <td>0.0</td>\n",
       "      <td>0.0</td>\n",
       "      <td>0.0</td>\n",
       "      <td>0.0</td>\n",
       "      <td>0.0</td>\n",
       "      <td>0.0</td>\n",
       "      <td>...</td>\n",
       "      <td>0.0</td>\n",
       "      <td>0.0</td>\n",
       "      <td>0.0</td>\n",
       "      <td>0.0</td>\n",
       "      <td>0.0</td>\n",
       "      <td>0.0</td>\n",
       "      <td>0.0</td>\n",
       "      <td>0.0</td>\n",
       "      <td>0.0</td>\n",
       "      <td>117310.979016</td>\n",
       "    </tr>\n",
       "  </tbody>\n",
       "</table>\n",
       "<p>75818 rows × 369 columns</p>\n",
       "</div>"
      ],
      "text/plain": [
       "       Var1  Var2  Var3  Var4  Var5  Var6  Var7  Var8  Var9  Var10  ...  \\\n",
       "0         2    32   0.0   0.0   0.0   0.0   0.0   0.0   0.0    0.0  ...   \n",
       "1         2    35   0.0   0.0   0.0   0.0   0.0   0.0   0.0    0.0  ...   \n",
       "2         2    23   0.0   0.0   0.0   0.0   0.0   0.0   0.0    0.0  ...   \n",
       "3         2    24   0.0   0.0   0.0   0.0   0.0   0.0   0.0    0.0  ...   \n",
       "4         2    23   0.0   0.0   0.0   0.0   0.0   0.0   0.0    0.0  ...   \n",
       "...     ...   ...   ...   ...   ...   ...   ...   ...   ...    ...  ...   \n",
       "75813     2    23   0.0   0.0   0.0   0.0   0.0   0.0   0.0    0.0  ...   \n",
       "75814     2    26   0.0   0.0   0.0   0.0   0.0   0.0   0.0    0.0  ...   \n",
       "75815     2    24   0.0   0.0   0.0   0.0   0.0   0.0   0.0    0.0  ...   \n",
       "75816     2    40   0.0   0.0   0.0   0.0   0.0   0.0   0.0    0.0  ...   \n",
       "75817     2    23   0.0   0.0   0.0   0.0   0.0   0.0   0.0    0.0  ...   \n",
       "\n",
       "       Var360  Var361  Var362  Var363  Var364  Var365  Var366  Var367  Var368  \\\n",
       "0         0.0     0.0     0.0     0.0     0.0     0.0     0.0     0.0     0.0   \n",
       "1         0.0     0.0     0.0     0.0     0.0     0.0     0.0     0.0     0.0   \n",
       "2         0.0     0.0     0.0     0.0     0.0     0.0     0.0     0.0     0.0   \n",
       "3         0.0     0.0     0.0     0.0     0.0     0.0     0.0     0.0     0.0   \n",
       "4         0.0     0.0     0.0     0.0     0.0     0.0     0.0     0.0     0.0   \n",
       "...       ...     ...     ...     ...     ...     ...     ...     ...     ...   \n",
       "75813     0.0     0.0     0.0     0.0     0.0     0.0     0.0     0.0     0.0   \n",
       "75814     0.0     0.0     0.0     0.0     0.0     0.0     0.0     0.0     0.0   \n",
       "75815     0.0     0.0     0.0     0.0     0.0     0.0     0.0     0.0     0.0   \n",
       "75816     0.0     0.0     0.0     0.0     0.0     0.0     0.0     0.0     0.0   \n",
       "75817     0.0     0.0     0.0     0.0     0.0     0.0     0.0     0.0     0.0   \n",
       "\n",
       "              Var369  \n",
       "0       40532.100000  \n",
       "1       45486.720000  \n",
       "2       46993.950000  \n",
       "3      187898.610000  \n",
       "4       73649.730000  \n",
       "...              ...  \n",
       "75813   40243.200000  \n",
       "75814  146961.300000  \n",
       "75815  167299.770000  \n",
       "75816  117310.979016  \n",
       "75817  117310.979016  \n",
       "\n",
       "[75818 rows x 369 columns]"
      ]
     },
     "execution_count": 77,
     "metadata": {},
     "output_type": "execute_result"
    }
   ],
   "source": [
    "# Ajustanto os Novos Dados\n",
    "ND1 = ajusta_dados(ND)\n",
    "ND1 = ND1.drop('ID', axis=1)\n",
    "ND1"
   ]
  },
  {
   "cell_type": "code",
   "execution_count": 78,
   "id": "94886686",
   "metadata": {},
   "outputs": [],
   "source": [
    "# Normalizando os Novos Dados com Scaler()\n",
    "NDNorm = scaler.transform(ND1)\n",
    "\n",
    "# Aplicando Redução de Dimensionalidade com SelectFromModel()\n",
    "NDNormR = modelOS.transform(NDNorm)"
   ]
  },
  {
   "cell_type": "code",
   "execution_count": 82,
   "id": "78799e37",
   "metadata": {},
   "outputs": [],
   "source": [
    "# Previsão de Classificação com o Modelo de Melhor Performance SGD06\n",
    "PrevisaoFinal = modelo06.predict(NDNormR)"
   ]
  },
  {
   "cell_type": "code",
   "execution_count": 84,
   "id": "b56574ec",
   "metadata": {},
   "outputs": [
    {
     "data": {
      "text/html": [
       "<div>\n",
       "<style scoped>\n",
       "    .dataframe tbody tr th:only-of-type {\n",
       "        vertical-align: middle;\n",
       "    }\n",
       "\n",
       "    .dataframe tbody tr th {\n",
       "        vertical-align: top;\n",
       "    }\n",
       "\n",
       "    .dataframe thead th {\n",
       "        text-align: right;\n",
       "    }\n",
       "</style>\n",
       "<table border=\"1\" class=\"dataframe\">\n",
       "  <thead>\n",
       "    <tr style=\"text-align: right;\">\n",
       "      <th></th>\n",
       "      <th>ID Cliente</th>\n",
       "      <th>Status Felicidade</th>\n",
       "    </tr>\n",
       "  </thead>\n",
       "  <tbody>\n",
       "    <tr>\n",
       "      <th>0</th>\n",
       "      <td>2</td>\n",
       "      <td>0</td>\n",
       "    </tr>\n",
       "    <tr>\n",
       "      <th>1</th>\n",
       "      <td>5</td>\n",
       "      <td>0</td>\n",
       "    </tr>\n",
       "    <tr>\n",
       "      <th>2</th>\n",
       "      <td>6</td>\n",
       "      <td>0</td>\n",
       "    </tr>\n",
       "    <tr>\n",
       "      <th>3</th>\n",
       "      <td>7</td>\n",
       "      <td>0</td>\n",
       "    </tr>\n",
       "    <tr>\n",
       "      <th>4</th>\n",
       "      <td>9</td>\n",
       "      <td>0</td>\n",
       "    </tr>\n",
       "  </tbody>\n",
       "</table>\n",
       "</div>"
      ],
      "text/plain": [
       "   ID Cliente  Status Felicidade\n",
       "0           2                  0\n",
       "1           5                  0\n",
       "2           6                  0\n",
       "3           7                  0\n",
       "4           9                  0"
      ]
     },
     "execution_count": 84,
     "metadata": {},
     "output_type": "execute_result"
    }
   ],
   "source": [
    "\n",
    "# Preparando Tabela Final\n",
    "data = {'ID Cliente':ND['ID'], 'Status Felicidade': PrevisaoFinal}\n",
    "TabelaFinal = pd.DataFrame(data=data)\n",
    "TabelaFinal.head()"
   ]
  },
  {
   "cell_type": "code",
   "execution_count": 85,
   "id": "ee84a25d",
   "metadata": {},
   "outputs": [],
   "source": [
    "# Salando em Disco em extensão .CSV\n",
    "TabelaFinal.to_csv('dados/TabelaFinal.csv', sep=',')"
   ]
  },
  {
   "attachments": {},
   "cell_type": "markdown",
   "id": "77fe8918",
   "metadata": {},
   "source": [
    "    Finalizamos nosso trabalho, entregando a tabela PrevisaoFinal para o Cliente, com as previsões dos Exemplos Solicitados."
   ]
  }
 ],
 "metadata": {
  "kernelspec": {
   "display_name": "Python 3 (ipykernel)",
   "language": "python",
   "name": "python3"
  },
  "language_info": {
   "codemirror_mode": {
    "name": "ipython",
    "version": 3
   },
   "file_extension": ".py",
   "mimetype": "text/x-python",
   "name": "python",
   "nbconvert_exporter": "python",
   "pygments_lexer": "ipython3",
   "version": "3.9.16"
  },
  "widgets": {
   "application/vnd.jupyter.widget-state+json": {
    "state": {},
    "version_major": 2,
    "version_minor": 0
   }
  }
 },
 "nbformat": 4,
 "nbformat_minor": 5
}
